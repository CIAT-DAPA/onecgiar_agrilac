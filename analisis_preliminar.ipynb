{
 "cells": [
  {
   "cell_type": "code",
   "execution_count": 1,
   "metadata": {},
   "outputs": [],
   "source": [
    "import pandas as pd\n",
    "%matplotlib inline\n",
    "import numpy as np\n",
    "import pandas as pd\n",
    "import seaborn as sns\n",
    "import matplotlib.pyplot as plt\n",
    "from psi import calculate_psi\n"
   ]
  },
  {
   "cell_type": "code",
   "execution_count": 2,
   "metadata": {},
   "outputs": [],
   "source": [
    "from keras.models import load_model\n",
    "model_final = load_model('../models/final/ann_final_test_sort.h5')\n"
   ]
  },
  {
   "cell_type": "code",
   "execution_count": 3,
   "metadata": {},
   "outputs": [],
   "source": [
    "ft_march = pd.read_parquet(\"../data/features_march.parquet\")"
   ]
  },
  {
   "cell_type": "code",
   "execution_count": 4,
   "metadata": {},
   "outputs": [
    {
     "data": {
      "text/html": [
       "<div>\n",
       "<style scoped>\n",
       "    .dataframe tbody tr th:only-of-type {\n",
       "        vertical-align: middle;\n",
       "    }\n",
       "\n",
       "    .dataframe tbody tr th {\n",
       "        vertical-align: top;\n",
       "    }\n",
       "\n",
       "    .dataframe thead th {\n",
       "        text-align: right;\n",
       "    }\n",
       "</style>\n",
       "<table border=\"1\" class=\"dataframe\">\n",
       "  <thead>\n",
       "    <tr style=\"text-align: right;\">\n",
       "      <th></th>\n",
       "      <th>accountid</th>\n",
       "      <th>amount_sum_7d</th>\n",
       "      <th>amount_sum_14d</th>\n",
       "      <th>amount_sum_21d</th>\n",
       "      <th>amount_prev_0</th>\n",
       "      <th>amount_prev_1</th>\n",
       "      <th>amount_prev_2</th>\n",
       "      <th>amount_prev_3</th>\n",
       "      <th>amount_prev_4</th>\n",
       "      <th>amount_prev_5</th>\n",
       "      <th>...</th>\n",
       "      <th>activity_days_prev_5</th>\n",
       "      <th>activity_days_prev_6</th>\n",
       "      <th>activity_days_prev_7</th>\n",
       "      <th>activity_days_prev_8</th>\n",
       "      <th>activity_days_prev_9</th>\n",
       "      <th>activity_days_prev_10</th>\n",
       "      <th>activity_days_prev_11</th>\n",
       "      <th>year</th>\n",
       "      <th>month</th>\n",
       "      <th>day</th>\n",
       "    </tr>\n",
       "  </thead>\n",
       "  <tbody>\n",
       "    <tr>\n",
       "      <th>3226</th>\n",
       "      <td>7486609c296ae597f9</td>\n",
       "      <td>0.0</td>\n",
       "      <td>48.9</td>\n",
       "      <td>0.0</td>\n",
       "      <td>48.90</td>\n",
       "      <td>0.00</td>\n",
       "      <td>0.0</td>\n",
       "      <td>0.0</td>\n",
       "      <td>0.0</td>\n",
       "      <td>0.00</td>\n",
       "      <td>...</td>\n",
       "      <td>0</td>\n",
       "      <td>0</td>\n",
       "      <td>0</td>\n",
       "      <td>0</td>\n",
       "      <td>0</td>\n",
       "      <td>0</td>\n",
       "      <td>0</td>\n",
       "      <td>2021</td>\n",
       "      <td>3</td>\n",
       "      <td>3</td>\n",
       "    </tr>\n",
       "    <tr>\n",
       "      <th>1497</th>\n",
       "      <td>748665962c6ee494fe</td>\n",
       "      <td>1005.0</td>\n",
       "      <td>777.0</td>\n",
       "      <td>0.0</td>\n",
       "      <td>1782.00</td>\n",
       "      <td>0.00</td>\n",
       "      <td>0.0</td>\n",
       "      <td>0.0</td>\n",
       "      <td>0.0</td>\n",
       "      <td>0.00</td>\n",
       "      <td>...</td>\n",
       "      <td>0</td>\n",
       "      <td>0</td>\n",
       "      <td>0</td>\n",
       "      <td>0</td>\n",
       "      <td>0</td>\n",
       "      <td>0</td>\n",
       "      <td>0</td>\n",
       "      <td>2021</td>\n",
       "      <td>3</td>\n",
       "      <td>3</td>\n",
       "    </tr>\n",
       "    <tr>\n",
       "      <th>1498</th>\n",
       "      <td>748665972866e498fd</td>\n",
       "      <td>0.0</td>\n",
       "      <td>0.0</td>\n",
       "      <td>0.0</td>\n",
       "      <td>0.00</td>\n",
       "      <td>110.00</td>\n",
       "      <td>0.0</td>\n",
       "      <td>0.0</td>\n",
       "      <td>0.0</td>\n",
       "      <td>0.00</td>\n",
       "      <td>...</td>\n",
       "      <td>0</td>\n",
       "      <td>0</td>\n",
       "      <td>0</td>\n",
       "      <td>0</td>\n",
       "      <td>1</td>\n",
       "      <td>2</td>\n",
       "      <td>1</td>\n",
       "      <td>2021</td>\n",
       "      <td>3</td>\n",
       "      <td>3</td>\n",
       "    </tr>\n",
       "    <tr>\n",
       "      <th>1499</th>\n",
       "      <td>748665972869e797fd</td>\n",
       "      <td>244.4</td>\n",
       "      <td>163.8</td>\n",
       "      <td>22.9</td>\n",
       "      <td>502.20</td>\n",
       "      <td>611.54</td>\n",
       "      <td>311.5</td>\n",
       "      <td>374.4</td>\n",
       "      <td>201.0</td>\n",
       "      <td>393.22</td>\n",
       "      <td>...</td>\n",
       "      <td>6</td>\n",
       "      <td>11</td>\n",
       "      <td>9</td>\n",
       "      <td>8</td>\n",
       "      <td>11</td>\n",
       "      <td>9</td>\n",
       "      <td>5</td>\n",
       "      <td>2021</td>\n",
       "      <td>3</td>\n",
       "      <td>3</td>\n",
       "    </tr>\n",
       "    <tr>\n",
       "      <th>1500</th>\n",
       "      <td>74866597286de092fe</td>\n",
       "      <td>11.0</td>\n",
       "      <td>0.0</td>\n",
       "      <td>0.0</td>\n",
       "      <td>11.00</td>\n",
       "      <td>1000.00</td>\n",
       "      <td>0.0</td>\n",
       "      <td>1.0</td>\n",
       "      <td>0.0</td>\n",
       "      <td>0.00</td>\n",
       "      <td>...</td>\n",
       "      <td>0</td>\n",
       "      <td>0</td>\n",
       "      <td>0</td>\n",
       "      <td>0</td>\n",
       "      <td>0</td>\n",
       "      <td>0</td>\n",
       "      <td>0</td>\n",
       "      <td>2021</td>\n",
       "      <td>3</td>\n",
       "      <td>3</td>\n",
       "    </tr>\n",
       "    <tr>\n",
       "      <th>...</th>\n",
       "      <td>...</td>\n",
       "      <td>...</td>\n",
       "      <td>...</td>\n",
       "      <td>...</td>\n",
       "      <td>...</td>\n",
       "      <td>...</td>\n",
       "      <td>...</td>\n",
       "      <td>...</td>\n",
       "      <td>...</td>\n",
       "      <td>...</td>\n",
       "      <td>...</td>\n",
       "      <td>...</td>\n",
       "      <td>...</td>\n",
       "      <td>...</td>\n",
       "      <td>...</td>\n",
       "      <td>...</td>\n",
       "      <td>...</td>\n",
       "      <td>...</td>\n",
       "      <td>...</td>\n",
       "      <td>...</td>\n",
       "      <td>...</td>\n",
       "    </tr>\n",
       "    <tr>\n",
       "      <th>2010</th>\n",
       "      <td>7486649b206ce391f9</td>\n",
       "      <td>0.0</td>\n",
       "      <td>0.0</td>\n",
       "      <td>0.0</td>\n",
       "      <td>0.00</td>\n",
       "      <td>0.00</td>\n",
       "      <td>0.0</td>\n",
       "      <td>0.0</td>\n",
       "      <td>0.0</td>\n",
       "      <td>5.00</td>\n",
       "      <td>...</td>\n",
       "      <td>1</td>\n",
       "      <td>1</td>\n",
       "      <td>0</td>\n",
       "      <td>3</td>\n",
       "      <td>0</td>\n",
       "      <td>0</td>\n",
       "      <td>0</td>\n",
       "      <td>2021</td>\n",
       "      <td>3</td>\n",
       "      <td>31</td>\n",
       "    </tr>\n",
       "    <tr>\n",
       "      <th>2009</th>\n",
       "      <td>7486649b2068e790fc</td>\n",
       "      <td>37.0</td>\n",
       "      <td>145.0</td>\n",
       "      <td>437.0</td>\n",
       "      <td>968.00</td>\n",
       "      <td>668.30</td>\n",
       "      <td>904.9</td>\n",
       "      <td>204.1</td>\n",
       "      <td>125.5</td>\n",
       "      <td>0.00</td>\n",
       "      <td>...</td>\n",
       "      <td>0</td>\n",
       "      <td>0</td>\n",
       "      <td>0</td>\n",
       "      <td>0</td>\n",
       "      <td>0</td>\n",
       "      <td>0</td>\n",
       "      <td>0</td>\n",
       "      <td>2021</td>\n",
       "      <td>3</td>\n",
       "      <td>31</td>\n",
       "    </tr>\n",
       "    <tr>\n",
       "      <th>2008</th>\n",
       "      <td>7486649a2e68ec93fc</td>\n",
       "      <td>7.0</td>\n",
       "      <td>0.0</td>\n",
       "      <td>0.0</td>\n",
       "      <td>7.00</td>\n",
       "      <td>0.00</td>\n",
       "      <td>0.0</td>\n",
       "      <td>29.0</td>\n",
       "      <td>0.0</td>\n",
       "      <td>0.00</td>\n",
       "      <td>...</td>\n",
       "      <td>0</td>\n",
       "      <td>0</td>\n",
       "      <td>0</td>\n",
       "      <td>0</td>\n",
       "      <td>0</td>\n",
       "      <td>0</td>\n",
       "      <td>0</td>\n",
       "      <td>2021</td>\n",
       "      <td>3</td>\n",
       "      <td>31</td>\n",
       "    </tr>\n",
       "    <tr>\n",
       "      <th>2006</th>\n",
       "      <td>7486649a2b69e797fe</td>\n",
       "      <td>416.1</td>\n",
       "      <td>313.7</td>\n",
       "      <td>369.7</td>\n",
       "      <td>1548.26</td>\n",
       "      <td>2637.50</td>\n",
       "      <td>874.1</td>\n",
       "      <td>0.0</td>\n",
       "      <td>0.0</td>\n",
       "      <td>0.00</td>\n",
       "      <td>...</td>\n",
       "      <td>0</td>\n",
       "      <td>0</td>\n",
       "      <td>0</td>\n",
       "      <td>0</td>\n",
       "      <td>0</td>\n",
       "      <td>0</td>\n",
       "      <td>0</td>\n",
       "      <td>2021</td>\n",
       "      <td>3</td>\n",
       "      <td>31</td>\n",
       "    </tr>\n",
       "    <tr>\n",
       "      <th>8290</th>\n",
       "      <td>7c866c98296ae690ff</td>\n",
       "      <td>0.0</td>\n",
       "      <td>88.0</td>\n",
       "      <td>0.0</td>\n",
       "      <td>303.00</td>\n",
       "      <td>1470.00</td>\n",
       "      <td>910.0</td>\n",
       "      <td>8534.5</td>\n",
       "      <td>2535.0</td>\n",
       "      <td>720.00</td>\n",
       "      <td>...</td>\n",
       "      <td>4</td>\n",
       "      <td>4</td>\n",
       "      <td>4</td>\n",
       "      <td>9</td>\n",
       "      <td>6</td>\n",
       "      <td>2</td>\n",
       "      <td>0</td>\n",
       "      <td>2021</td>\n",
       "      <td>3</td>\n",
       "      <td>31</td>\n",
       "    </tr>\n",
       "  </tbody>\n",
       "</table>\n",
       "<p>468425 rows × 65 columns</p>\n",
       "</div>"
      ],
      "text/plain": [
       "               accountid  amount_sum_7d  amount_sum_14d  amount_sum_21d  \\\n",
       "3226  7486609c296ae597f9            0.0            48.9             0.0   \n",
       "1497  748665962c6ee494fe         1005.0           777.0             0.0   \n",
       "1498  748665972866e498fd            0.0             0.0             0.0   \n",
       "1499  748665972869e797fd          244.4           163.8            22.9   \n",
       "1500  74866597286de092fe           11.0             0.0             0.0   \n",
       "...                  ...            ...             ...             ...   \n",
       "2010  7486649b206ce391f9            0.0             0.0             0.0   \n",
       "2009  7486649b2068e790fc           37.0           145.0           437.0   \n",
       "2008  7486649a2e68ec93fc            7.0             0.0             0.0   \n",
       "2006  7486649a2b69e797fe          416.1           313.7           369.7   \n",
       "8290  7c866c98296ae690ff            0.0            88.0             0.0   \n",
       "\n",
       "      amount_prev_0  amount_prev_1  amount_prev_2  amount_prev_3  \\\n",
       "3226          48.90           0.00            0.0            0.0   \n",
       "1497        1782.00           0.00            0.0            0.0   \n",
       "1498           0.00         110.00            0.0            0.0   \n",
       "1499         502.20         611.54          311.5          374.4   \n",
       "1500          11.00        1000.00            0.0            1.0   \n",
       "...             ...            ...            ...            ...   \n",
       "2010           0.00           0.00            0.0            0.0   \n",
       "2009         968.00         668.30          904.9          204.1   \n",
       "2008           7.00           0.00            0.0           29.0   \n",
       "2006        1548.26        2637.50          874.1            0.0   \n",
       "8290         303.00        1470.00          910.0         8534.5   \n",
       "\n",
       "      amount_prev_4  amount_prev_5  ...  activity_days_prev_5  \\\n",
       "3226            0.0           0.00  ...                     0   \n",
       "1497            0.0           0.00  ...                     0   \n",
       "1498            0.0           0.00  ...                     0   \n",
       "1499          201.0         393.22  ...                     6   \n",
       "1500            0.0           0.00  ...                     0   \n",
       "...             ...            ...  ...                   ...   \n",
       "2010            0.0           5.00  ...                     1   \n",
       "2009          125.5           0.00  ...                     0   \n",
       "2008            0.0           0.00  ...                     0   \n",
       "2006            0.0           0.00  ...                     0   \n",
       "8290         2535.0         720.00  ...                     4   \n",
       "\n",
       "      activity_days_prev_6  activity_days_prev_7  activity_days_prev_8  \\\n",
       "3226                     0                     0                     0   \n",
       "1497                     0                     0                     0   \n",
       "1498                     0                     0                     0   \n",
       "1499                    11                     9                     8   \n",
       "1500                     0                     0                     0   \n",
       "...                    ...                   ...                   ...   \n",
       "2010                     1                     0                     3   \n",
       "2009                     0                     0                     0   \n",
       "2008                     0                     0                     0   \n",
       "2006                     0                     0                     0   \n",
       "8290                     4                     4                     9   \n",
       "\n",
       "      activity_days_prev_9  activity_days_prev_10  activity_days_prev_11  \\\n",
       "3226                     0                      0                      0   \n",
       "1497                     0                      0                      0   \n",
       "1498                     1                      2                      1   \n",
       "1499                    11                      9                      5   \n",
       "1500                     0                      0                      0   \n",
       "...                    ...                    ...                    ...   \n",
       "2010                     0                      0                      0   \n",
       "2009                     0                      0                      0   \n",
       "2008                     0                      0                      0   \n",
       "2006                     0                      0                      0   \n",
       "8290                     6                      2                      0   \n",
       "\n",
       "      year  month  day  \n",
       "3226  2021      3    3  \n",
       "1497  2021      3    3  \n",
       "1498  2021      3    3  \n",
       "1499  2021      3    3  \n",
       "1500  2021      3    3  \n",
       "...    ...    ...  ...  \n",
       "2010  2021      3   31  \n",
       "2009  2021      3   31  \n",
       "2008  2021      3   31  \n",
       "2006  2021      3   31  \n",
       "8290  2021      3   31  \n",
       "\n",
       "[468425 rows x 65 columns]"
      ]
     },
     "execution_count": 4,
     "metadata": {},
     "output_type": "execute_result"
    }
   ],
   "source": [
    "ft_march"
   ]
  },
  {
   "cell_type": "code",
   "execution_count": 4,
   "metadata": {},
   "outputs": [],
   "source": [
    "from pickle import load\n",
    "scaler = load(open('../models/final/scaler.pkl', 'rb'))"
   ]
  },
  {
   "cell_type": "code",
   "execution_count": 6,
   "metadata": {},
   "outputs": [],
   "source": []
  },
  {
   "cell_type": "markdown",
   "metadata": {},
   "source": [
    "# Probabilidades con ANN"
   ]
  },
  {
   "cell_type": "code",
   "execution_count": 7,
   "metadata": {},
   "outputs": [],
   "source": [
    "columns = ['activity_days_7', 'activity_days_14', 'activity_days_15',\n",
    "       'activity_days_21', 'activity_days_prev_0', 'activity_days_prev_1',\n",
    "       'activity_days_prev_2', 'activity_days_prev_3', 'activity_days_prev_4',\n",
    "       'activity_days_prev_5', 'activity_days_prev_6', 'activity_days_prev_7',\n",
    "       'activity_days_prev_8', 'activity_days_prev_9', 'activity_days_prev_10',\n",
    "       'amount_sum_7d', 'txamount_sum_14d_period',\n",
    "       'txamount_sum_15d_period', 'txamount_sum_21d_period',\n",
    "       'txamount_sum_22d_period', 'txamount_sum_30d_period',\n",
    "       'txamount_sum_38d_period', 'txamount_sum_45d_period',\n",
    "       'txamount_sum_52d_period', 'txamount_sum_60d_period',\n",
    "       'txamount_sum_68d_period', 'txamount_sum_75d_period',\n",
    "       'txamount_sum_82d_period', 'txamount_sum_90d_period', 'amount_prev_0',\n",
    "       'amount_prev_1', 'amount_prev_2', 'amount_prev_3', 'amount_prev_4',\n",
    "       'amount_prev_5', 'amount_prev_6', 'amount_prev_7', 'amount_prev_8',\n",
    "       'amount_prev_9', 'amount_prev_10','quantity_sum_7d',\n",
    "       'txquantity_sum_14d_period', 'txquantity_sum_21d_period',\n",
    "       'txquantity_sum_30d_period', 'quantity_prev_0', 'quantity_prev_1',\n",
    "       'quantity_prev_2', 'quantity_prev_3', 'quantity_prev_4',\n",
    "       'quantity_prev_5', 'quantity_prev_6', 'quantity_prev_7',\n",
    "       'quantity_prev_8', 'quantity_prev_9', 'quantity_prev_10', 'accountid']"
   ]
  },
  {
   "cell_type": "code",
   "execution_count": 8,
   "metadata": {},
   "outputs": [],
   "source": [
    "days=ft_march.day.unique()"
   ]
  },
  {
   "cell_type": "code",
   "execution_count": 17,
   "metadata": {},
   "outputs": [],
   "source": [
    "preds_all=pd.DataFrame()\n",
    "for i in days:\n",
    "    X= ft_march.loc[ft_march.day==i,columns]\n",
    "    X = X.set_index('accountid')\n",
    "    X.index = X.index.astype(str)\n",
    "    if (i==3):\n",
    "        preds_all = pd.Series(model_final.predict(\n",
    "                    scaler.transform(X)\n",
    "                )[:, 0],\n",
    "                index=X.index\n",
    "            ).to_frame(name=3)\n",
    "    else:\n",
    "        preds_all[i] = pd.Series(model_final.predict(\n",
    "                    scaler.transform(X)\n",
    "                )[:, 0],\n",
    "                index=X.index\n",
    "            ).to_frame(name='prob'+str(i))\n"
   ]
  },
  {
   "cell_type": "code",
   "execution_count": 20,
   "metadata": {},
   "outputs": [],
   "source": [
    "preds_all.columns = ['prob_'+str(i) for i in days]"
   ]
  },
  {
   "cell_type": "code",
   "execution_count": 72,
   "metadata": {},
   "outputs": [
    {
     "data": {
      "text/html": [
       "<div>\n",
       "<style scoped>\n",
       "    .dataframe tbody tr th:only-of-type {\n",
       "        vertical-align: middle;\n",
       "    }\n",
       "\n",
       "    .dataframe tbody tr th {\n",
       "        vertical-align: top;\n",
       "    }\n",
       "\n",
       "    .dataframe thead th {\n",
       "        text-align: right;\n",
       "    }\n",
       "</style>\n",
       "<table border=\"1\" class=\"dataframe\">\n",
       "  <thead>\n",
       "    <tr style=\"text-align: right;\">\n",
       "      <th></th>\n",
       "      <th>prob_3</th>\n",
       "      <th>prob_18</th>\n",
       "      <th>prob_24</th>\n",
       "      <th>prob_31</th>\n",
       "    </tr>\n",
       "    <tr>\n",
       "      <th>accountid</th>\n",
       "      <th></th>\n",
       "      <th></th>\n",
       "      <th></th>\n",
       "      <th></th>\n",
       "    </tr>\n",
       "  </thead>\n",
       "  <tbody>\n",
       "    <tr>\n",
       "      <th>7486609c296ae597f9</th>\n",
       "      <td>0.672196</td>\n",
       "      <td>0.679537</td>\n",
       "      <td>0.679537</td>\n",
       "      <td>0.678746</td>\n",
       "    </tr>\n",
       "    <tr>\n",
       "      <th>748665962c6ee494fe</th>\n",
       "      <td>0.544130</td>\n",
       "      <td>0.626798</td>\n",
       "      <td>0.620236</td>\n",
       "      <td>0.675463</td>\n",
       "    </tr>\n",
       "    <tr>\n",
       "      <th>748665972866e498fd</th>\n",
       "      <td>0.678817</td>\n",
       "      <td>0.675853</td>\n",
       "      <td>0.672057</td>\n",
       "      <td>0.673409</td>\n",
       "    </tr>\n",
       "    <tr>\n",
       "      <th>748665972869e797fd</th>\n",
       "      <td>0.651455</td>\n",
       "      <td>0.582143</td>\n",
       "      <td>0.508420</td>\n",
       "      <td>0.693711</td>\n",
       "    </tr>\n",
       "    <tr>\n",
       "      <th>74866597286de092fe</th>\n",
       "      <td>0.637654</td>\n",
       "      <td>0.667616</td>\n",
       "      <td>0.625957</td>\n",
       "      <td>0.627693</td>\n",
       "    </tr>\n",
       "    <tr>\n",
       "      <th>...</th>\n",
       "      <td>...</td>\n",
       "      <td>...</td>\n",
       "      <td>...</td>\n",
       "      <td>...</td>\n",
       "    </tr>\n",
       "    <tr>\n",
       "      <th>748660992068e499fc</th>\n",
       "      <td>0.667789</td>\n",
       "      <td>0.667789</td>\n",
       "      <td>0.667789</td>\n",
       "      <td>0.687337</td>\n",
       "    </tr>\n",
       "    <tr>\n",
       "      <th>748660992868e791fc</th>\n",
       "      <td>0.620364</td>\n",
       "      <td>0.627775</td>\n",
       "      <td>0.634445</td>\n",
       "      <td>0.632238</td>\n",
       "    </tr>\n",
       "    <tr>\n",
       "      <th>74866099286be298ff</th>\n",
       "      <td>0.675014</td>\n",
       "      <td>0.674195</td>\n",
       "      <td>0.674195</td>\n",
       "      <td>0.674195</td>\n",
       "    </tr>\n",
       "    <tr>\n",
       "      <th>74866099296ce092f5</th>\n",
       "      <td>0.514838</td>\n",
       "      <td>0.601570</td>\n",
       "      <td>0.702774</td>\n",
       "      <td>0.405901</td>\n",
       "    </tr>\n",
       "    <tr>\n",
       "      <th>74866097206de392fb</th>\n",
       "      <td>0.650927</td>\n",
       "      <td>0.655811</td>\n",
       "      <td>0.592930</td>\n",
       "      <td>0.622928</td>\n",
       "    </tr>\n",
       "  </tbody>\n",
       "</table>\n",
       "<p>112068 rows × 4 columns</p>\n",
       "</div>"
      ],
      "text/plain": [
       "                      prob_3   prob_18   prob_24   prob_31\n",
       "accountid                                                 \n",
       "7486609c296ae597f9  0.672196  0.679537  0.679537  0.678746\n",
       "748665962c6ee494fe  0.544130  0.626798  0.620236  0.675463\n",
       "748665972866e498fd  0.678817  0.675853  0.672057  0.673409\n",
       "748665972869e797fd  0.651455  0.582143  0.508420  0.693711\n",
       "74866597286de092fe  0.637654  0.667616  0.625957  0.627693\n",
       "...                      ...       ...       ...       ...\n",
       "748660992068e499fc  0.667789  0.667789  0.667789  0.687337\n",
       "748660992868e791fc  0.620364  0.627775  0.634445  0.632238\n",
       "74866099286be298ff  0.675014  0.674195  0.674195  0.674195\n",
       "74866099296ce092f5  0.514838  0.601570  0.702774  0.405901\n",
       "74866097206de392fb  0.650927  0.655811  0.592930  0.622928\n",
       "\n",
       "[112068 rows x 4 columns]"
      ]
     },
     "execution_count": 72,
     "metadata": {},
     "output_type": "execute_result"
    }
   ],
   "source": [
    "preds_all.dropna(inplace=True)\n",
    "preds_all"
   ]
  },
  {
   "cell_type": "code",
   "execution_count": 73,
   "metadata": {},
   "outputs": [
    {
     "data": {
      "text/plain": [
       "<matplotlib.legend.Legend at 0x7fa847c9ae80>"
      ]
     },
     "execution_count": 73,
     "metadata": {},
     "output_type": "execute_result"
    },
    {
     "data": {
      "image/png": "[encoded data removed]",
      "text/plain": [
       "<Figure size 432x288 with 1 Axes>"
      ]
     },
     "metadata": {
      "needs_background": "light"
     },
     "output_type": "display_data"
    }
   ],
   "source": [
    "import matplotlib.patches as  mpatches\n",
    "\n",
    "plot = sns.kdeplot(preds_all[\"prob_3\"], shade=True,color=\"blue\")\n",
    "plot = sns.kdeplot(preds_all[\"prob_18\"], shade=True,color=\"orange\")\n",
    "plot = sns.kdeplot(preds_all[\"prob_24\"], shade=True,color=\"gray\")\n",
    "plot = sns.kdeplot(preds_all[\"prob_31\"], shade=True,color=\"green\")\n",
    "\n",
    "plot.set(yticklabels=[], xticklabels = [])\n",
    "sns.despine(left=True)\n",
    "\n",
    "\n",
    "handles = [mpatches.Patch(facecolor=plt.cm.Blues(120), label=\"Initial prob\"),\n",
    "           mpatches.Patch(facecolor=plt.cm.Oranges(50), label=\"New prob\")]\n",
    "plot.legend(handles=handles)"
   ]
  },
  {
   "cell_type": "code",
   "execution_count": 74,
   "metadata": {},
   "outputs": [],
   "source": [
    "%matplotlib inline\n",
    "import numpy as np\n",
    "import pandas as pd\n",
    "import seaborn as sns\n",
    "import matplotlib.pyplot as plt\n",
    "#from psi import calculate_psi"
   ]
  },
  {
   "cell_type": "code",
   "execution_count": 75,
   "metadata": {},
   "outputs": [
    {
     "data": {
      "text/plain": [
       "0.001803614645584384"
      ]
     },
     "execution_count": 75,
     "metadata": {},
     "output_type": "execute_result"
    }
   ],
   "source": [
    "calculate_psi(preds_all[\"prob_3\"], preds_all[\"prob_18\"], buckettype='quantiles', buckets=10, axis=1)"
   ]
  },
  {
   "cell_type": "code",
   "execution_count": 76,
   "metadata": {},
   "outputs": [
    {
     "data": {
      "text/plain": [
       "array([0.23612094, 0.50419576, 0.59829707, 0.63799389, 0.65711799,\n",
       "       0.66890621, 0.67414548, 0.67769969, 0.68216172, 0.69675731,\n",
       "       0.86650634])"
      ]
     },
     "execution_count": 76,
     "metadata": {},
     "output_type": "execute_result"
    }
   ],
   "source": [
    "buckets = 10\n",
    "breakpoints = np.stack([np.percentile(preds_all[\"prob_3\"], b) for b in np.arange(0, buckets + 1) / (buckets) * 100])\n",
    "breakpoints"
   ]
  },
  {
   "cell_type": "code",
   "execution_count": 77,
   "metadata": {},
   "outputs": [],
   "source": [
    "initial_counts = np.histogram(preds_all[\"prob_3\"], breakpoints)[0]\n",
    "new_counts_18 = np.histogram(preds_all[\"prob_18\"], breakpoints)[0]\n",
    "new_counts_24 = np.histogram(preds_all[\"prob_24\"], breakpoints)[0]\n",
    "new_counts_31 = np.histogram(preds_all[\"prob_31\"], breakpoints)[0]"
   ]
  },
  {
   "cell_type": "code",
   "execution_count": 78,
   "metadata": {},
   "outputs": [
    {
     "data": {
      "text/plain": [
       "array([11207, 11207, 11207, 11206, 11207, 11207, 11173, 11240, 11207,\n",
       "       11207])"
      ]
     },
     "execution_count": 78,
     "metadata": {},
     "output_type": "execute_result"
    }
   ],
   "source": [
    "initial_counts"
   ]
  },
  {
   "cell_type": "code",
   "execution_count": 79,
   "metadata": {},
   "outputs": [
    {
     "name": "stderr",
     "output_type": "stream",
     "text": [
      "<ipython-input-79-21630bf27955>:6: SettingWithCopyWarning: \n",
      "A value is trying to be set on a copy of a slice from a DataFrame\n",
      "\n",
      "See the caveats in the documentation: https://pandas.pydata.org/pandas-docs/stable/user_guide/indexing.html#returning-a-view-versus-a-copy\n",
      "  df['New Percent_18'][df['New Percent_18'] == 0] = 0.001\n",
      "<ipython-input-79-21630bf27955>:9: SettingWithCopyWarning: \n",
      "A value is trying to be set on a copy of a slice from a DataFrame\n",
      "\n",
      "See the caveats in the documentation: https://pandas.pydata.org/pandas-docs/stable/user_guide/indexing.html#returning-a-view-versus-a-copy\n",
      "  df['New Percent_24'][df['New Percent_24'] == 0] = 0.001\n",
      "<ipython-input-79-21630bf27955>:12: SettingWithCopyWarning: \n",
      "A value is trying to be set on a copy of a slice from a DataFrame\n",
      "\n",
      "See the caveats in the documentation: https://pandas.pydata.org/pandas-docs/stable/user_guide/indexing.html#returning-a-view-versus-a-copy\n",
      "  df['New Percent_31'][df['New Percent_31'] == 0] = 0.001\n"
     ]
    }
   ],
   "source": [
    "df = pd.DataFrame({'Bucket': np.arange(1, 11), 'Breakpoint Value':breakpoints[1:], 'Initial Count':initial_counts, \n",
    "                  'New Count_18':new_counts_18,'New Count_24':new_counts_24,'New Count_31':new_counts_31})\n",
    "df['Initial Percent'] = df['Initial Count'] / len(preds_all[\"prob_3\"])\n",
    "\n",
    "df['New Percent_18'] = df['New Count_18'] / len(preds_all[\"prob_18\"])\n",
    "df['New Percent_18'][df['New Percent_18'] == 0] = 0.001\n",
    "\n",
    "df['New Percent_24'] = df['New Count_24'] / len(preds_all[\"prob_24\"])\n",
    "df['New Percent_24'][df['New Percent_24'] == 0] = 0.001\n",
    "\n",
    "df['New Percent_31'] = df['New Count_31'] / len(preds_all[\"prob_31\"])\n",
    "df['New Percent_31'][df['New Percent_31'] == 0] = 0.001\n",
    "\n",
    "\n",
    "percents = df[['Initial Percent', 'New Percent_18','New Percent_24','New Percent_31', 'Bucket']] \\\n",
    "             .melt(id_vars=['Bucket']) \\\n",
    "             .rename(columns={'variable':'Population', 'value':'Percent'})"
   ]
  },
  {
   "cell_type": "code",
   "execution_count": 80,
   "metadata": {},
   "outputs": [
    {
     "data": {
      "text/plain": [
       "[(0.0, 0.2)]"
      ]
     },
     "execution_count": 80,
     "metadata": {},
     "output_type": "execute_result"
    },
    {
     "data": {
      "image/png": "[encoded data removed]",
      "text/plain": [
       "<Figure size 432x288 with 1 Axes>"
      ]
     },
     "metadata": {
      "needs_background": "light"
     },
     "output_type": "display_data"
    }
   ],
   "source": [
    "p = sns.barplot(x=\"Bucket\", y=\"Percent\", hue=\"Population\", data=percents)\n",
    "p.set(xlabel='Bucket', ylabel='Population Percent')\n",
    "sns.despine(left=True)\n",
    "p.set(ylim=(0, 0.2))"
   ]
  },
  {
   "cell_type": "code",
   "execution_count": 66,
   "metadata": {},
   "outputs": [
    {
     "name": "stdout",
     "output_type": "stream",
     "text": [
      "week_1 0.045970623637894295\n",
      "week_2 0.0453596464600584\n",
      "week_3 0.04338320217351154\n"
     ]
    }
   ],
   "source": [
    "print(\"week_1\",calculate_psi(preds_all[\"prob_3\"], preds_all[\"prob_18\"], buckettype='quantiles', buckets=10, axis=1))\n",
    "print(\"week_2\",calculate_psi(preds_all[\"prob_3\"], preds_all[\"prob_24\"], buckettype='quantiles', buckets=10, axis=1))\n",
    "print(\"week_3\",calculate_psi(preds_all[\"prob_3\"], preds_all[\"prob_31\"], buckettype='quantiles', buckets=10, axis=1))"
   ]
  },
  {
   "cell_type": "markdown",
   "metadata": {},
   "source": [
    "# PCA SVM"
   ]
  },
  {
   "cell_type": "code",
   "execution_count": 90,
   "metadata": {},
   "outputs": [],
   "source": [
    "import joblib as jb\n",
    "pcasvm = jb.load(\"../models/final/pcasvm_test.pkl\")"
   ]
  },
  {
   "cell_type": "code",
   "execution_count": 91,
   "metadata": {},
   "outputs": [],
   "source": [
    "preds_all_1=pd.DataFrame()\n",
    "for i in days:\n",
    "    X= ft_march.loc[ft_march.day==i,columns]\n",
    "    X = X.set_index('accountid')\n",
    "    X.index = X.index.astype(str)\n",
    "    if (i==3):\n",
    "        preds_all_1 = pd.Series(pcasvm.predict_proba(\n",
    "                    X\n",
    "                )[:, 1],\n",
    "                index=X.index\n",
    "            ).to_frame(name=3)\n",
    "    else:\n",
    "        preds_all_1[i] = pd.Series(pcasvm.predict_proba(\n",
    "                    X\n",
    "                )[:, 1],\n",
    "                index=X.index\n",
    "            ).to_frame(name='prob'+str(i))\n",
    "preds_all_1.columns = ['prob_'+str(i) for i in days]"
   ]
  },
  {
   "cell_type": "code",
   "execution_count": 92,
   "metadata": {},
   "outputs": [],
   "source": [
    "preds_all_1.dropna(inplace=True)"
   ]
  },
  {
   "cell_type": "code",
   "execution_count": null,
   "metadata": {},
   "outputs": [],
   "source": []
  },
  {
   "cell_type": "code",
   "execution_count": 93,
   "metadata": {},
   "outputs": [
    {
     "data": {
      "text/plain": [
       "array([0.01633222, 0.55471015, 0.78747206, 0.79074656, 0.79184124,\n",
       "       0.79406856, 0.79912397, 0.80651271, 0.81851274, 0.83681779,\n",
       "       0.948869  ])"
      ]
     },
     "execution_count": 93,
     "metadata": {},
     "output_type": "execute_result"
    }
   ],
   "source": [
    "buckets = 10\n",
    "breakpoints = np.stack([np.percentile(preds_all_1[\"prob_3\"], b) for b in np.arange(0, buckets + 1) / (buckets) * 100])\n",
    "breakpoints"
   ]
  },
  {
   "cell_type": "code",
   "execution_count": 94,
   "metadata": {},
   "outputs": [],
   "source": [
    "initial_counts = np.histogram(preds_all_1[\"prob_3\"], breakpoints)[0]\n",
    "new_counts_18 = np.histogram(preds_all_1[\"prob_18\"], breakpoints)[0]\n",
    "new_counts_24 = np.histogram(preds_all_1[\"prob_24\"], breakpoints)[0]\n",
    "new_counts_31 = np.histogram(preds_all_1[\"prob_31\"], breakpoints)[0]"
   ]
  },
  {
   "cell_type": "code",
   "execution_count": 95,
   "metadata": {},
   "outputs": [
    {
     "data": {
      "text/plain": [
       "array([11207, 11207, 11207, 11206, 11207, 11207, 11206, 11207, 11207,\n",
       "       11207])"
      ]
     },
     "execution_count": 95,
     "metadata": {},
     "output_type": "execute_result"
    }
   ],
   "source": [
    "initial_counts"
   ]
  },
  {
   "cell_type": "code",
   "execution_count": 96,
   "metadata": {},
   "outputs": [
    {
     "name": "stderr",
     "output_type": "stream",
     "text": [
      "<ipython-input-96-176adc85f47b>:6: SettingWithCopyWarning: \n",
      "A value is trying to be set on a copy of a slice from a DataFrame\n",
      "\n",
      "See the caveats in the documentation: https://pandas.pydata.org/pandas-docs/stable/user_guide/indexing.html#returning-a-view-versus-a-copy\n",
      "  df['New Percent_18'][df['New Percent_18'] == 0] = 0.001\n",
      "<ipython-input-96-176adc85f47b>:9: SettingWithCopyWarning: \n",
      "A value is trying to be set on a copy of a slice from a DataFrame\n",
      "\n",
      "See the caveats in the documentation: https://pandas.pydata.org/pandas-docs/stable/user_guide/indexing.html#returning-a-view-versus-a-copy\n",
      "  df['New Percent_24'][df['New Percent_24'] == 0] = 0.001\n",
      "<ipython-input-96-176adc85f47b>:12: SettingWithCopyWarning: \n",
      "A value is trying to be set on a copy of a slice from a DataFrame\n",
      "\n",
      "See the caveats in the documentation: https://pandas.pydata.org/pandas-docs/stable/user_guide/indexing.html#returning-a-view-versus-a-copy\n",
      "  df['New Percent_31'][df['New Percent_31'] == 0] = 0.001\n"
     ]
    }
   ],
   "source": [
    "df = pd.DataFrame({'Bucket': np.arange(1, 11), 'Breakpoint Value':breakpoints[1:], 'Initial Count':initial_counts, \n",
    "                  'New Count_18':new_counts_18,'New Count_24':new_counts_24,'New Count_31':new_counts_31})\n",
    "df['Initial Percent'] = df['Initial Count'] / len(preds_all_1[\"prob_3\"])\n",
    "\n",
    "df['New Percent_18'] = df['New Count_18'] / len(preds_all_1[\"prob_18\"])\n",
    "df['New Percent_18'][df['New Percent_18'] == 0] = 0.001\n",
    "\n",
    "df['New Percent_24'] = df['New Count_24'] / len(preds_all_1[\"prob_24\"])\n",
    "df['New Percent_24'][df['New Percent_24'] == 0] = 0.001\n",
    "\n",
    "df['New Percent_31'] = df['New Count_31'] / len(preds_all_1[\"prob_31\"])\n",
    "df['New Percent_31'][df['New Percent_31'] == 0] = 0.001\n",
    "\n",
    "\n",
    "percents = df[['Initial Percent', 'New Percent_18','New Percent_24','New Percent_31', 'Bucket']] \\\n",
    "             .melt(id_vars=['Bucket']) \\\n",
    "             .rename(columns={'variable':'Population', 'value':'Percent'})"
   ]
  },
  {
   "cell_type": "code",
   "execution_count": 97,
   "metadata": {},
   "outputs": [
    {
     "data": {
      "text/plain": [
       "[(0.0, 0.2)]"
      ]
     },
     "execution_count": 97,
     "metadata": {},
     "output_type": "execute_result"
    },
    {
     "data": {
      "image/png": "[encoded data removed]",
      "text/plain": [
       "<Figure size 432x288 with 1 Axes>"
      ]
     },
     "metadata": {
      "needs_background": "light"
     },
     "output_type": "display_data"
    }
   ],
   "source": [
    "p = sns.barplot(x=\"Bucket\", y=\"Percent\", hue=\"Population\", data=percents)\n",
    "p.set(xlabel='Bucket', ylabel='Population Percent')\n",
    "sns.despine(left=True)\n",
    "p.set(ylim=(0, 0.2))"
   ]
  },
  {
   "cell_type": "code",
   "execution_count": 98,
   "metadata": {},
   "outputs": [
    {
     "name": "stdout",
     "output_type": "stream",
     "text": [
      "week_1 0.005518660653671643\n",
      "week_2 0.008353054028282151\n",
      "week_3 0.010767847448397701\n"
     ]
    }
   ],
   "source": [
    "print(\"week_1\",calculate_psi(preds_all_1[\"prob_3\"], preds_all_1[\"prob_18\"], buckettype='quantiles', buckets=10, axis=1))\n",
    "print(\"week_2\",calculate_psi(preds_all_1[\"prob_3\"], preds_all_1[\"prob_24\"], buckettype='quantiles', buckets=10, axis=1))\n",
    "print(\"week_3\",calculate_psi(preds_all_1[\"prob_3\"], preds_all_1[\"prob_31\"], buckettype='quantiles', buckets=10, axis=1))"
   ]
  },
  {
   "cell_type": "code",
   "execution_count": null,
   "metadata": {},
   "outputs": [],
   "source": []
  }
 ],
 "metadata": {
  "kernelspec": {
   "display_name": "Python 3",
   "language": "python",
   "name": "python3"
  },
  "language_info": {
   "codemirror_mode": {
    "name": "ipython",
    "version": 3
   },
   "file_extension": ".py",
   "mimetype": "text/x-python",
   "name": "python",
   "nbconvert_exporter": "python",
   "pygments_lexer": "ipython3",
   "version": "3.6.9"
  }
 },
 "nbformat": 4,
 "nbformat_minor": 5
}
