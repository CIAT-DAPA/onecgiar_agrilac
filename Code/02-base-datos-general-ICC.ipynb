{
 "cells": [
  {
   "cell_type": "markdown",
   "metadata": {
    "ExecuteTime": {
     "end_time": "2021-09-06T19:04:54.590190Z",
     "start_time": "2021-09-06T19:04:54.587188Z"
    }
   },
   "source": [
    "# Base de datos diario -ICC\n",
    "\n",
    "**Objetivo**\n",
    "Con este notebook se reproduce el excel que ICC maneja como insumo para sus calculos, reporte y demas."
   ]
  },
  {
   "cell_type": "code",
   "execution_count": null,
   "metadata": {},
   "outputs": [],
   "source": [
    "# check donde estamos trabajando\n",
    "#pwd"
   ]
  },
  {
   "cell_type": "code",
   "execution_count": null,
   "metadata": {},
   "outputs": [],
   "source": [
    "# libreria para movernos entre diferentes rutas\n",
    "#import os\n",
    "\n",
    "#os.chdir('../../')"
   ]
  },
  {
   "cell_type": "code",
   "execution_count": null,
   "metadata": {},
   "outputs": [],
   "source": [
    "#pip install -U scikit-learn"
   ]
  },
  {
   "cell_type": "code",
   "execution_count": 5,
   "metadata": {
    "ExecuteTime": {
     "end_time": "2021-09-06T19:04:55.069873Z",
     "start_time": "2021-09-06T19:04:54.592016Z"
    }
   },
   "outputs": [],
   "source": [
    "# Libreías generales\n",
    "import numpy as np\n",
    "import pandas as pd\n",
    "import math\n",
    "import datetime\n",
    "from dateutil.relativedelta import relativedelta\n",
    "import glob\n",
    "import datetime\n",
    "import sklearn\n",
    "\n",
    "# Gráficos\n",
    "# ==============================================================================\n",
    "import matplotlib.pyplot as plt\n",
    "import matplotlib.font_manager\n",
    "from matplotlib import style\n",
    "style.use('ggplot') or plt.style.use('ggplot')\n",
    "import seaborn as sns\n",
    "\n",
    "\n",
    "\n",
    "# Preprocesado y modelado\n",
    "# ==============================================================================\n",
    "from sklearn.cluster import DBSCAN, KMeans\n",
    "from sklearn.metrics import silhouette_score, silhouette_samples\n",
    "from sklearn.preprocessing import StandardScaler\n",
    "from sklearn.neighbors import NearestNeighbors\n",
    "\n",
    "\n",
    "import matplotlib.pyplot as plt\n",
    "from matplotlib import cm\n",
    "import matplotlib\n",
    "\n",
    "# Configuración warnings\n",
    "# ==============================================================================\n",
    "import warnings\n",
    "warnings.filterwarnings('ignore')"
   ]
  },
  {
   "cell_type": "code",
   "execution_count": 6,
   "metadata": {},
   "outputs": [],
   "source": [
    "#comando para visualizar todas las columnas del df\n",
    "pd.pandas.set_option('display.max_columns', None)"
   ]
  },
  {
   "cell_type": "markdown",
   "metadata": {},
   "source": [
    "# features load\n",
    "los datos aqui cargados sufireron una limpieza en el notebook "
   ]
  },
  {
   "cell_type": "code",
   "execution_count": null,
   "metadata": {},
   "outputs": [],
   "source": [
    "# get data file names\n",
    "path =r'/home/diana/Escritorio/CIAT/ICC/historicos_horarios_excel/'\n",
    "filenames = glob.glob(path + \"/*.xlsx\")\n",
    "filenames"
   ]
  },
  {
   "cell_type": "code",
   "execution_count": null,
   "metadata": {},
   "outputs": [],
   "source": [
    "%%time\n",
    "dfs = pd.DataFrame()\n",
    "li=[]\n",
    "\n",
    "for csv in filenames:\n",
    "    df = pd.read_excel(csv, index_col=None)\n",
    "    li.append(df)\n",
    "\n",
    "dfs = pd.concat(li, axis=0, ignore_index=True)\n",
    "dfs.head()"
   ]
  },
  {
   "cell_type": "code",
   "execution_count": null,
   "metadata": {},
   "outputs": [],
   "source": [
    "dfs.drop('Unnamed: 0',axis=1, inplace=True)"
   ]
  },
  {
   "cell_type": "code",
   "execution_count": null,
   "metadata": {},
   "outputs": [],
   "source": [
    "dfs"
   ]
  },
  {
   "cell_type": "markdown",
   "metadata": {},
   "source": [
    "pd.read_parquet('icc_stations_all.parquet')\n"
   ]
  },
  {
   "cell_type": "code",
   "execution_count": 7,
   "metadata": {},
   "outputs": [
    {
     "ename": "FileNotFoundError",
     "evalue": "[Errno 2] No such file or directory: 'icc_stations_all.parquet'",
     "output_type": "error",
     "traceback": [
      "\u001b[1;31m---------------------------------------------------------------------------\u001b[0m",
      "\u001b[1;31mFileNotFoundError\u001b[0m                         Traceback (most recent call last)",
      "Cell \u001b[1;32mIn [7], line 1\u001b[0m\n\u001b[1;32m----> 1\u001b[0m dfs \u001b[39m=\u001b[39m pd\u001b[39m.\u001b[39;49mread_parquet(\u001b[39m'\u001b[39;49m\u001b[39micc_stations_all.parquet\u001b[39;49m\u001b[39m'\u001b[39;49m)\n\u001b[0;32m      2\u001b[0m dfs\u001b[39m.\u001b[39mhead(\u001b[39m20\u001b[39m)\n",
      "File \u001b[1;32mc:\\Users\\darias\\Anaconda3\\lib\\site-packages\\pandas\\io\\parquet.py:503\u001b[0m, in \u001b[0;36mread_parquet\u001b[1;34m(path, engine, columns, storage_options, use_nullable_dtypes, **kwargs)\u001b[0m\n\u001b[0;32m    456\u001b[0m \u001b[39m\"\"\"\u001b[39;00m\n\u001b[0;32m    457\u001b[0m \u001b[39mLoad a parquet object from the file path, returning a DataFrame.\u001b[39;00m\n\u001b[0;32m    458\u001b[0m \n\u001b[1;32m   (...)\u001b[0m\n\u001b[0;32m    499\u001b[0m \u001b[39mDataFrame\u001b[39;00m\n\u001b[0;32m    500\u001b[0m \u001b[39m\"\"\"\u001b[39;00m\n\u001b[0;32m    501\u001b[0m impl \u001b[39m=\u001b[39m get_engine(engine)\n\u001b[1;32m--> 503\u001b[0m \u001b[39mreturn\u001b[39;00m impl\u001b[39m.\u001b[39mread(\n\u001b[0;32m    504\u001b[0m     path,\n\u001b[0;32m    505\u001b[0m     columns\u001b[39m=\u001b[39mcolumns,\n\u001b[0;32m    506\u001b[0m     storage_options\u001b[39m=\u001b[39mstorage_options,\n\u001b[0;32m    507\u001b[0m     use_nullable_dtypes\u001b[39m=\u001b[39muse_nullable_dtypes,\n\u001b[0;32m    508\u001b[0m     \u001b[39m*\u001b[39m\u001b[39m*\u001b[39mkwargs,\n\u001b[0;32m    509\u001b[0m )\n",
      "File \u001b[1;32mc:\\Users\\darias\\Anaconda3\\lib\\site-packages\\pandas\\io\\parquet.py:244\u001b[0m, in \u001b[0;36mPyArrowImpl.read\u001b[1;34m(self, path, columns, use_nullable_dtypes, storage_options, **kwargs)\u001b[0m\n\u001b[0;32m    241\u001b[0m \u001b[39mif\u001b[39;00m manager \u001b[39m==\u001b[39m \u001b[39m\"\u001b[39m\u001b[39marray\u001b[39m\u001b[39m\"\u001b[39m:\n\u001b[0;32m    242\u001b[0m     to_pandas_kwargs[\u001b[39m\"\u001b[39m\u001b[39msplit_blocks\u001b[39m\u001b[39m\"\u001b[39m] \u001b[39m=\u001b[39m \u001b[39mTrue\u001b[39;00m  \u001b[39m# type: ignore[assignment]\u001b[39;00m\n\u001b[1;32m--> 244\u001b[0m path_or_handle, handles, kwargs[\u001b[39m\"\u001b[39m\u001b[39mfilesystem\u001b[39m\u001b[39m\"\u001b[39m] \u001b[39m=\u001b[39m _get_path_or_handle(\n\u001b[0;32m    245\u001b[0m     path,\n\u001b[0;32m    246\u001b[0m     kwargs\u001b[39m.\u001b[39;49mpop(\u001b[39m\"\u001b[39;49m\u001b[39mfilesystem\u001b[39;49m\u001b[39m\"\u001b[39;49m, \u001b[39mNone\u001b[39;49;00m),\n\u001b[0;32m    247\u001b[0m     storage_options\u001b[39m=\u001b[39;49mstorage_options,\n\u001b[0;32m    248\u001b[0m     mode\u001b[39m=\u001b[39;49m\u001b[39m\"\u001b[39;49m\u001b[39mrb\u001b[39;49m\u001b[39m\"\u001b[39;49m,\n\u001b[0;32m    249\u001b[0m )\n\u001b[0;32m    250\u001b[0m \u001b[39mtry\u001b[39;00m:\n\u001b[0;32m    251\u001b[0m     result \u001b[39m=\u001b[39m \u001b[39mself\u001b[39m\u001b[39m.\u001b[39mapi\u001b[39m.\u001b[39mparquet\u001b[39m.\u001b[39mread_table(\n\u001b[0;32m    252\u001b[0m         path_or_handle, columns\u001b[39m=\u001b[39mcolumns, \u001b[39m*\u001b[39m\u001b[39m*\u001b[39mkwargs\n\u001b[0;32m    253\u001b[0m     )\u001b[39m.\u001b[39mto_pandas(\u001b[39m*\u001b[39m\u001b[39m*\u001b[39mto_pandas_kwargs)\n",
      "File \u001b[1;32mc:\\Users\\darias\\Anaconda3\\lib\\site-packages\\pandas\\io\\parquet.py:102\u001b[0m, in \u001b[0;36m_get_path_or_handle\u001b[1;34m(path, fs, storage_options, mode, is_dir)\u001b[0m\n\u001b[0;32m     92\u001b[0m handles \u001b[39m=\u001b[39m \u001b[39mNone\u001b[39;00m\n\u001b[0;32m     93\u001b[0m \u001b[39mif\u001b[39;00m (\n\u001b[0;32m     94\u001b[0m     \u001b[39mnot\u001b[39;00m fs\n\u001b[0;32m     95\u001b[0m     \u001b[39mand\u001b[39;00m \u001b[39mnot\u001b[39;00m is_dir\n\u001b[1;32m   (...)\u001b[0m\n\u001b[0;32m    100\u001b[0m     \u001b[39m# fsspec resources can also point to directories\u001b[39;00m\n\u001b[0;32m    101\u001b[0m     \u001b[39m# this branch is used for example when reading from non-fsspec URLs\u001b[39;00m\n\u001b[1;32m--> 102\u001b[0m     handles \u001b[39m=\u001b[39m get_handle(\n\u001b[0;32m    103\u001b[0m         path_or_handle, mode, is_text\u001b[39m=\u001b[39;49m\u001b[39mFalse\u001b[39;49;00m, storage_options\u001b[39m=\u001b[39;49mstorage_options\n\u001b[0;32m    104\u001b[0m     )\n\u001b[0;32m    105\u001b[0m     fs \u001b[39m=\u001b[39m \u001b[39mNone\u001b[39;00m\n\u001b[0;32m    106\u001b[0m     path_or_handle \u001b[39m=\u001b[39m handles\u001b[39m.\u001b[39mhandle\n",
      "File \u001b[1;32mc:\\Users\\darias\\Anaconda3\\lib\\site-packages\\pandas\\io\\common.py:865\u001b[0m, in \u001b[0;36mget_handle\u001b[1;34m(path_or_buf, mode, encoding, compression, memory_map, is_text, errors, storage_options)\u001b[0m\n\u001b[0;32m    856\u001b[0m         handle \u001b[39m=\u001b[39m \u001b[39mopen\u001b[39m(\n\u001b[0;32m    857\u001b[0m             handle,\n\u001b[0;32m    858\u001b[0m             ioargs\u001b[39m.\u001b[39mmode,\n\u001b[1;32m   (...)\u001b[0m\n\u001b[0;32m    861\u001b[0m             newline\u001b[39m=\u001b[39m\u001b[39m\"\u001b[39m\u001b[39m\"\u001b[39m,\n\u001b[0;32m    862\u001b[0m         )\n\u001b[0;32m    863\u001b[0m     \u001b[39melse\u001b[39;00m:\n\u001b[0;32m    864\u001b[0m         \u001b[39m# Binary mode\u001b[39;00m\n\u001b[1;32m--> 865\u001b[0m         handle \u001b[39m=\u001b[39m \u001b[39mopen\u001b[39;49m(handle, ioargs\u001b[39m.\u001b[39;49mmode)\n\u001b[0;32m    866\u001b[0m     handles\u001b[39m.\u001b[39mappend(handle)\n\u001b[0;32m    868\u001b[0m \u001b[39m# Convert BytesIO or file objects passed with an encoding\u001b[39;00m\n",
      "\u001b[1;31mFileNotFoundError\u001b[0m: [Errno 2] No such file or directory: 'icc_stations_all.parquet'"
     ]
    }
   ],
   "source": [
    "dfs = pd.read_parquet('icc_stations_all.parquet')\n",
    "dfs.head(20)"
   ]
  },
  {
   "cell_type": "markdown",
   "metadata": {},
   "source": [
    "# Agregacion diaria"
   ]
  },
  {
   "cell_type": "code",
   "execution_count": null,
   "metadata": {},
   "outputs": [],
   "source": [
    "dfs.info()"
   ]
  },
  {
   "cell_type": "code",
   "execution_count": null,
   "metadata": {},
   "outputs": [],
   "source": [
    "def segmentacion(df, col_fecha):\n",
    "    \"\"\"\n",
    "    función que segmenta la fecha en dia, mes, año y semana.\n",
    "    \n",
    "    Arguments:\n",
    "        df: dataframe \n",
    "        col_fecha: columna que contiene la informacion de la fecha\n",
    "        \n",
    "    Returns:\n",
    "        df: dataframe de entrada con 5 nuevas columnas que informan sobre laç\n",
    "        fecha dd/mm/aa, semana, dia, mes y año\n",
    "    \"\"\"\n",
    "    df['date'] = pd.to_datetime(df[col_fecha]).dt.date\n",
    "    df['semana'] = pd.to_datetime(df[col_fecha]).dt.week\n",
    "    df['dia'] = pd.to_datetime(df[col_fecha]).dt.day\n",
    "    df['mes'] = pd.to_datetime(df[col_fecha]).dt.month\n",
    "    df['año'] = pd.to_datetime(df[col_fecha]).dt.year\n",
    "    return df"
   ]
  },
  {
   "cell_type": "code",
   "execution_count": null,
   "metadata": {},
   "outputs": [],
   "source": [
    "#aqui se llama la funcion y se pone los parametros\n",
    "segmentacion(dfs, 'fecha')"
   ]
  },
  {
   "cell_type": "markdown",
   "metadata": {},
   "source": [
    "# Agregaciones diarias\n",
    "con la siguiente linea se construyen las columnas agregadas que tenia carlos en el excel"
   ]
  },
  {
   "cell_type": "code",
   "execution_count": null,
   "metadata": {},
   "outputs": [],
   "source": [
    "df_diario = dfs.groupby(['estacion', 'date','semana','dia','mes','año']).agg(\n",
    "    temperatura_min_diaria=('temperatura', 'min'),\n",
    "    temperatura_max_diaria=('temperatura', 'max'),\n",
    "    temperatura_promedio_diaria=('temperatura', 'mean'),\n",
    "    radiacion_diaria_acumulada=('radiacion', 'sum'),\n",
    "    radiacion_diaria_promedio = ('radiacion','mean'),\n",
    "    humedad_relativa_min_diaria = ('humedad_relativa', 'min'),\n",
    "    humedad_relativa_max_diaria = ('humedad_relativa', 'max'),\n",
    "    humedad_relativa_media_diaria = ('humedad_relativa', 'mean'),\n",
    "    lluvia_diaria = ('precipitacion', 'sum'),\n",
    "    velocidad_viento_media_diario = ('velocidad_viento', 'mean'),\n",
    "    velocidad_viento_max_diaria = ('velocidad_viento', 'max')\n",
    ").reset_index()"
   ]
  },
  {
   "cell_type": "code",
   "execution_count": null,
   "metadata": {},
   "outputs": [],
   "source": [
    "df_diario['amplitud_termica'] = df_diario.temperatura_max_diaria - df_diario.temperatura_min_diaria"
   ]
  },
  {
   "cell_type": "markdown",
   "metadata": {},
   "source": [
    "# constantes para algunos calculos de variables\n",
    "las tablas que se consultan fueron sacadas del excel compartido por ICC. se esta adelantando la revision bibliografica para generalizar estas tablas a otras estaciones."
   ]
  },
  {
   "cell_type": "code",
   "execution_count": null,
   "metadata": {},
   "outputs": [],
   "source": [
    "\"\"\"\n",
    "constantes de radiacion extraterreste y numero de dias despejado\n",
    "\"\"\"\n",
    "\n",
    "ra_n_ctes = pd.read_excel('tabla_Ra_N.xlsx').iloc[:-1]\n",
    "ra_n_ctes.pop(\"Unnamed: 22\")\n",
    "\n",
    "ctes_radiacion = pd.read_excel('constantes_radiacion.xlsx')\n",
    "ctes_radiacion.head()"
   ]
  },
  {
   "cell_type": "code",
   "execution_count": null,
   "metadata": {},
   "outputs": [],
   "source": [
    "ctes_location = pd.read_excel('estra_location.xlsx')\n",
    "ctes_location['latitud_rad'] = ctes_location['latitud'].apply(lambda row: math.radians(row))"
   ]
  },
  {
   "cell_type": "code",
   "execution_count": null,
   "metadata": {},
   "outputs": [],
   "source": [
    "def extraer_info(df, filtros_str, name_feature, name_col):\n",
    "    \"\"\"\n",
    "    Como la tabla tiene la informacion de varias constantes\n",
    "    de interes como por ejemplo: radiacion general y radiacion en dia p,\n",
    "    se hace un filtro para separalas. como hacemos el filtro nos queda en las columnas los meses y en las filas con el dia.\n",
    "    es necesario quitar  el sufijo lpara solo quedarnos con el numero de meses.\n",
    "\n",
    "    la matriz anterior se re diseña para que el mes ya no quede como columna sino como filas\n",
    "    y los valores de la radiacion no quede en la matriz sino en una columna\n",
    "    \n",
    "    \n",
    "    Arguments:\n",
    "        df: dataframe \n",
    "        col_fecha: columna que contiene la informacion de la fecha\n",
    "        \n",
    "    Returns:\n",
    "        df: dataframe de entrada con 5 nuevas columnas que informan sobre laç\n",
    "        fe\n",
    "\n",
    "    \"\"\"\n",
    "    matriz=df.filter(regex=filtros_str)\n",
    "    matriz.columns = matriz.columns.str.replace(\"_\" + name_feature, \"\")\n",
    "    df_feature = matriz.melt(id_vars=[\"dia\"], \n",
    "        var_name=\"mes\", \n",
    "        value_name=name_col)\n",
    "    df_feature.mes = df_feature.mes.astype('int')\n",
    "    return df_feature"
   ]
  },
  {
   "cell_type": "code",
   "execution_count": null,
   "metadata": {},
   "outputs": [],
   "source": [
    "df_n = extraer_info(ra_n_ctes, 'dia|N', 'N', 'N Daylight hours')\n",
    "df_ra = extraer_info(ra_n_ctes, 'dia|Ra', 'Ra', 'Ra')"
   ]
  },
  {
   "cell_type": "code",
   "execution_count": null,
   "metadata": {},
   "outputs": [],
   "source": [
    "df_rg = extraer_info(ctes_radiacion, 'rgl|dia', 'rgl', 'radiacion_global')\n",
    "df_rdp = extraer_info(ctes_radiacion, 'rdp|dia', 'rdp', 'radiacion_dia_despejado')"
   ]
  },
  {
   "cell_type": "markdown",
   "metadata": {},
   "source": [
    "## Join all dfs"
   ]
  },
  {
   "cell_type": "code",
   "execution_count": null,
   "metadata": {},
   "outputs": [],
   "source": [
    "\"\"\"\n",
    "se unen los 3 dataframes donde las columnas comunes o las llaves son dia y mes y se \n",
    "reescribe el df_diario\n",
    "\n",
    "\"\"\"\n",
    "df_diario  = df_diario.merge(df_rg, how='inner', on=['dia', 'mes']).merge(df_rdp, how='inner', on=['dia', 'mes'])\n",
    "df_diario = df_diario.merge(df_n, how='inner', on=['dia', 'mes']).merge(df_ra, how='inner', on=['dia', 'mes'])\n",
    "##\n",
    "df_diario = df_diario.merge(ctes_location, how= 'inner', on=['estacion'])"
   ]
  },
  {
   "cell_type": "markdown",
   "metadata": {},
   "source": [
    "## Calculo de variables secundarias (las variables que requieren calculos)"
   ]
  },
  {
   "cell_type": "code",
   "execution_count": null,
   "metadata": {},
   "outputs": [],
   "source": [
    "def secundary_variables(df):\n",
    "    df['radiacion_media_estimada Heargreaves'] = 0.16 * (\n",
    "        np.sqrt(df.amplitud_termica)\n",
    "    ) * df.radiacion_global\n",
    "    \n",
    "    df['Rg'] = 0.00089681 * df.radiacion_diaria_acumulada\n",
    "    \n",
    "    df['n']=(\n",
    "        -0.32 +1.61*(df.Rg / df.Ra)\n",
    "    )*df['N Daylight hours']\n",
    "    \n",
    "    ## balance hidrico\n",
    "    \n",
    "    df['dia_juliano'] = df['date'].apply(\n",
    "        lambda row: (row -datetime.date(row.year,1,1)).days +1\n",
    "    )\n",
    "    \n",
    "    df['dr'] = 1 + (0.033 * np.cos(((2*3.1416)/365)*df['dia_juliano']))\n",
    "    \n",
    "    df['declinacion'] = 0.409  * np.sin(\n",
    "        (((2*3.1416)/365)*df['dia_juliano'])-1.39\n",
    "    )\n",
    "    \n",
    "    df['ang_horario_puesta_sol'] = np.arccos(\n",
    "        -(np.tan(df.latitud_rad) * np.tan(df.declinacion))\n",
    "    )\n",
    "    \n",
    "    df['heliofania'] = (24/3.1416) * df['ang_horario_puesta_sol']\n",
    "    \n",
    "    df['ra_MJm-2day-1'] = ((24*60)/3.1416) * (0.082*df['dr']) * (\n",
    "        (\n",
    "            (df.ang_horario_puesta_sol * np.sin(df.latitud_rad))*(np.sin(df.declinacion))\n",
    "        )+(\n",
    "            np.cos(df.latitud_rad)*np.cos(df.declinacion)*np.sin(df.ang_horario_puesta_sol)\n",
    "        )\n",
    "    )\n",
    "    \n",
    "    df['radiacion_solar_piranometro'] = 0.0864 * df.radiacion_diaria_promedio\n",
    "    \n",
    "    df['constante_psicometrica'] =(\n",
    "        (\n",
    "            pow(((293-(0.0065 * df.altitud))/293), 5.26)\n",
    "        )*101.3\n",
    "    )*0.000665\n",
    "    \n",
    "    df['pendiente_curva_presion_satu_vapor'] = (\n",
    "        4089 * (\n",
    "            (0.6108 * (\n",
    "                np.exp((17.27*df.temperatura_promedio_diaria)/(df.temperatura_promedio_diaria+237.3))\n",
    "            )) / pow(\n",
    "                (df_diario.temperatura_promedio_diaria+273.3),\n",
    "                2)\n",
    "        )\n",
    "    )\n",
    "    \n",
    "    df['presion_saturacion_vapor'] = (\n",
    "        (\n",
    "            0.6108 * np.exp(\n",
    "                (17.27*df.temperatura_min_diaria)/(df.temperatura_min_diaria +237.3)\n",
    "            )\n",
    "        )+(\n",
    "            0.6108*np.exp(\n",
    "                (17.27*df.temperatura_max_diaria)/(df.temperatura_max_diaria+237.3)\n",
    "            )\n",
    "        )\n",
    "    )/2\n",
    "    \n",
    "    \n",
    "    df['presion_real_vapor'] = (\n",
    "        (\n",
    "            0.6108*np.exp(\n",
    "                (17.27*df.temperatura_max_diaria)/(df.temperatura_max_diaria +237.3)\n",
    "            )\n",
    "        ) * (df.humedad_relativa_min_diaria /100) + (\n",
    "            0.6108*np.exp(\n",
    "                (17.27*df.temperatura_min_diaria) / (df.temperatura_min_diaria+273.3)\n",
    "            )\n",
    "        ) * (df.humedad_relativa_max_diaria/100)\n",
    "    )/2\n",
    "    \n",
    "    df['deficit_presion_vapor'] = df['presion_saturacion_vapor'] - df['presion_real_vapor']\n",
    "    \n",
    "    df['rns'] = df.radiacion_solar_piranometro * 0.77\n",
    "    \n",
    "    df['rnl']= (\n",
    "        (\n",
    "            (\n",
    "                (\n",
    "                    0.000000004903*(pow((df.temperatura_min_diaria+273.16),4))\n",
    "                ) + (\n",
    "                    (0.000000004903 * (pow(\n",
    "                        (df.temperatura_max_diaria+273.16)\n",
    "                        ,4)))\n",
    "                )\n",
    "            ) / 2\n",
    "        ) * (\n",
    "            0.34 -(0.14 *np.sqrt(df.presion_real_vapor))\n",
    "        ) * (\n",
    "            1.35 * (\n",
    "                df.radiacion_solar_piranometro /((0.75+2*(df.altitud/100000))* df['ra_MJm-2day-1'])\n",
    "            ) -0.35\n",
    "        )\n",
    "    )\n",
    "    \n",
    "    df['rn'] = df['rns'] - df['rnl']\n",
    "    \n",
    "    df['velocidad_viento_altura_standar'] = (\n",
    "        (4.87)/((np.log((67.8*10)-5.42)))\n",
    "    )*(\n",
    "        (df.velocidad_viento_media_diario * 1000)/3600\n",
    "    )\n",
    "    \n",
    "    df['FAO-Penman-Montieth'] = (\n",
    "        (0.408 * df.pendiente_curva_presion_satu_vapor * df.rn) + (\n",
    "            df.constante_psicometrica * (\n",
    "                900/(df.temperatura_promedio_diaria + 273)\n",
    "            )* df.velocidad_viento_altura_standar * df.deficit_presion_vapor\n",
    "        )\n",
    "    ) / (\n",
    "        df.pendiente_curva_presion_satu_vapor + (\n",
    "            df.constante_psicometrica + (\n",
    "                1+(0.34 + df.velocidad_viento_altura_standar)\n",
    "            )\n",
    "        )\n",
    "    )\n",
    "    \n",
    "    df['deficit']= df.lluvia_diaria - df['FAO-Penman-Montieth']\n",
    "    return df"
   ]
  },
  {
   "cell_type": "code",
   "execution_count": null,
   "metadata": {},
   "outputs": [],
   "source": [
    "secundary_variables(df_diario)"
   ]
  },
  {
   "cell_type": "code",
   "execution_count": null,
   "metadata": {},
   "outputs": [],
   "source": [
    "df_diario.to_parquet('diario_complete.parquet')"
   ]
  },
  {
   "cell_type": "code",
   "execution_count": null,
   "metadata": {},
   "outputs": [],
   "source": []
  },
  {
   "cell_type": "code",
   "execution_count": null,
   "metadata": {},
   "outputs": [],
   "source": []
  },
  {
   "cell_type": "code",
   "execution_count": null,
   "metadata": {},
   "outputs": [],
   "source": []
  },
  {
   "cell_type": "code",
   "execution_count": null,
   "metadata": {},
   "outputs": [],
   "source": []
  },
  {
   "cell_type": "code",
   "execution_count": null,
   "metadata": {},
   "outputs": [],
   "source": []
  },
  {
   "cell_type": "code",
   "execution_count": null,
   "metadata": {},
   "outputs": [],
   "source": []
  },
  {
   "cell_type": "markdown",
   "metadata": {},
   "source": [
    "# el raound es para el redondeo\n",
    "df_diario['radiacion_media_estimada Heargreaves'] = round(\n",
    "    0.16 * (np.sqrt(df_diario.amplitud_termica)) * df_diario.radiacion_global,\n",
    "    1\n",
    ")\n"
   ]
  },
  {
   "cell_type": "markdown",
   "metadata": {},
   "source": [
    "df_diario['Rg']=0.00089681*df_diario.radiacion_diaria_acumulada"
   ]
  },
  {
   "cell_type": "markdown",
   "metadata": {},
   "source": [
    "df_diario['n']=round(\n",
    "    (-0.32 +1.61*(df_diario['Rg']/df_diario['Ra']))*df_diario['N Daylight hours'],\n",
    "    1\n",
    ")"
   ]
  },
  {
   "cell_type": "code",
   "execution_count": null,
   "metadata": {},
   "outputs": [],
   "source": [
    "\n",
    "\n",
    "secundary_variables(df_diario)"
   ]
  },
  {
   "cell_type": "code",
   "execution_count": null,
   "metadata": {},
   "outputs": [],
   "source": [
    "df_diario.head()"
   ]
  },
  {
   "cell_type": "code",
   "execution_count": null,
   "metadata": {},
   "outputs": [],
   "source": [
    "def"
   ]
  },
  {
   "cell_type": "code",
   "execution_count": null,
   "metadata": {},
   "outputs": [],
   "source": [
    "df_diario.to_parquet('df_diario.parquet')"
   ]
  },
  {
   "cell_type": "markdown",
   "metadata": {},
   "source": [
    "# Balance hidrico"
   ]
  },
  {
   "cell_type": "code",
   "execution_count": null,
   "metadata": {},
   "outputs": [],
   "source": [
    "df_diario = pd.read_parquet('df_diario.parquet')"
   ]
  },
  {
   "cell_type": "code",
   "execution_count": null,
   "metadata": {},
   "outputs": [],
   "source": [
    "df_diario.head()"
   ]
  },
  {
   "cell_type": "markdown",
   "metadata": {},
   "source": [
    "df_diario['dia_juliano'] = df_diario['date'].apply(\n",
    "    lambda row: (row -datetime.date(row.year,1,1)).days +1\n",
    ")"
   ]
  },
  {
   "cell_type": "markdown",
   "metadata": {},
   "source": [
    "df_diario['dr'] = 1+(0.033*np.cos(((2*3.1416)/365)*df_diario['dia_juliano']))"
   ]
  },
  {
   "cell_type": "markdown",
   "metadata": {},
   "source": [
    "df_diario['declinacion'] = 0.409*np.sin((((2*3.1416)/365)*df_diario['dia_juliano'])-1.39)"
   ]
  },
  {
   "cell_type": "markdown",
   "metadata": {},
   "source": [
    "# lectura sobre altitud y latitud\n",
    "A partir de aqui solo se quedan las 27 estaciones que analizan en ICC. antes habian 32"
   ]
  },
  {
   "cell_type": "markdown",
   "metadata": {},
   "source": [
    "ctes_location = pd.read_excel('estra_location.xlsx')\n",
    "ctes_location"
   ]
  },
  {
   "cell_type": "markdown",
   "metadata": {},
   "source": [
    "ctes_location['latitud_rad'] = ctes_location['latitud'].apply(lambda row: math.radians(row))"
   ]
  },
  {
   "cell_type": "markdown",
   "metadata": {},
   "source": [
    "df_diario = df_diario.merge(ctes_location, how= 'inner', on=['estacion'])"
   ]
  },
  {
   "cell_type": "markdown",
   "metadata": {},
   "source": [
    "df_diario['ang_horario_puesta_sol'] = np.arccos(\n",
    "    -(\n",
    "        np.tan(df_diario.latitud_rad) * np.tan(df_diario.declinacion)\n",
    "    )\n",
    ")"
   ]
  },
  {
   "cell_type": "markdown",
   "metadata": {},
   "source": [
    "df_diario['heliofania'] =(24/3.1416)*df_diario['ang_horario_puesta_sol']"
   ]
  },
  {
   "cell_type": "markdown",
   "metadata": {},
   "source": [
    "df_diario['ra_MJm-2day-1'] = (\n",
    "    (24*60)/3.1416\n",
    ") *(\n",
    "    0.082*df_diario['dr']\n",
    ")*(\n",
    "    (\n",
    "        (\n",
    "            df_diario.ang_horario_puesta_sol * np.sin(df_diario.latitud_rad)\n",
    "        )*(\n",
    "            np.sin(df_diario.declinacion)\n",
    "        )\n",
    "    )+(\n",
    "        np.cos(df_diario.latitud_rad)*np.cos(df_diario.declinacion)*np.sin(df_diario.ang_horario_puesta_sol)\n",
    "    )\n",
    ")\n"
   ]
  },
  {
   "cell_type": "markdown",
   "metadata": {},
   "source": [
    "df_diario['radiacion_solar_piranometro'] = 0.0864*df_diario.radiacion_diaria_promedio"
   ]
  },
  {
   "cell_type": "markdown",
   "metadata": {},
   "source": [
    "df_diario['constante_psicometrica'] =(\n",
    "    (\n",
    "        pow(\n",
    "            (\n",
    "                (293-(0.0065*df_diario.altitud))/293\n",
    "            )\n",
    "            , 5.26\n",
    "        )\n",
    "    )*101.3\n",
    ")*0.000665"
   ]
  },
  {
   "cell_type": "markdown",
   "metadata": {},
   "source": [
    "df_diario['pendiente_curva_presion_satu_vapor'] =(\n",
    "    4089*(\n",
    "        (\n",
    "            0.6108*(np.exp((17.27*df_diario.temperatura_promedio_diaria)/(df_diario.temperatura_promedio_diaria+237.3))))/pow((df_diario.temperatura_promedio_diaria+273.3), 2)))"
   ]
  },
  {
   "cell_type": "markdown",
   "metadata": {},
   "source": [
    "df_diario['presion_saturacion_vapor'] =((0.6108*np.exp((17.27*df_diario.temperatura_min_diaria)/(df_diario.temperatura_min_diaria +237.3)))+(0.6108*np.exp((17.27*df_diario.temperatura_max_diaria)/(df_diario.temperatura_max_diaria+237.3))))/2"
   ]
  },
  {
   "cell_type": "markdown",
   "metadata": {},
   "source": [
    "df_diario['presion_real_vapor'] = (\n",
    "    (\n",
    "        0.6108*np.exp(\n",
    "            (\n",
    "                17.27*df_diario.temperatura_max_diaria\n",
    "            )/(\n",
    "                df_diario.temperatura_max_diaria +237.3\n",
    "            )\n",
    "        )\n",
    "    ) * (\n",
    "        df_diario.humedad_relativa_min_diaria /100\n",
    "    ) + (\n",
    "        0.6108*np.exp(\n",
    "            (\n",
    "                17.27*df_diario.temperatura_min_diaria\n",
    "            )/ (\n",
    "                df_diario.temperatura_min_diaria+273.3\n",
    "            )\n",
    "        )\n",
    "    ) * (\n",
    "        df_diario.humedad_relativa_max_diaria/100\n",
    "    )\n",
    ")/2"
   ]
  },
  {
   "cell_type": "markdown",
   "metadata": {},
   "source": [
    "df_diario['deficit_presion_vapor'] = df_diario['presion_saturacion_vapor'] - df_diario['presion_real_vapor']"
   ]
  },
  {
   "cell_type": "markdown",
   "metadata": {},
   "source": [
    "df_diario['rns']=df_diario.radiacion_solar_piranometro * 0.77"
   ]
  },
  {
   "cell_type": "markdown",
   "metadata": {},
   "source": [
    "df_diario['rnl']= (\n",
    "    (\n",
    "        (\n",
    "            (\n",
    "                0.000000004903*(\n",
    "                    pow(\n",
    "                        (df_diario.temperatura_min_diaria+273.16),\n",
    "                        4\n",
    "                    )\n",
    "                )\n",
    "            ) + (\n",
    "                (\n",
    "                    0.000000004903 * (\n",
    "                        pow(\n",
    "                            (df_diario.temperatura_max_diaria+273.16),\n",
    "                            4\n",
    "                        )\n",
    "                    )\n",
    "                )\n",
    "            )\n",
    "        ) / 2\n",
    "    ) * (\n",
    "        0.34 -(\n",
    "            0.14 *np.sqrt(df_diario.presion_real_vapor)\n",
    "        )\n",
    "    ) * (\n",
    "        1.35 * (\n",
    "            df_diario.radiacion_solar_piranometro /(\n",
    "                (\n",
    "                    0.75+2*(df_diario.altitud/100000)\n",
    "                )* df_diario['ra_MJm-2day-1']\n",
    "            )\n",
    "        ) -0.35\n",
    "    )\n",
    ")\n",
    "            "
   ]
  },
  {
   "cell_type": "markdown",
   "metadata": {},
   "source": [
    "df_diario['rn']=df_diario['rns']-df_diario['rnl']"
   ]
  },
  {
   "cell_type": "markdown",
   "metadata": {},
   "source": [
    "df_diario['velocidad_viento_altura_standar'] = (\n",
    "    (4.87)/(\n",
    "        (np.log((67.8*10)-5.42))\n",
    "    )\n",
    ")*(\n",
    "    (df_diario.velocidad_viento_media_diario*1000)/3600\n",
    ")"
   ]
  },
  {
   "cell_type": "markdown",
   "metadata": {},
   "source": [
    "df_diario['FAO-Penman-Montieth'] = (\n",
    "    (\n",
    "        0.408*df_diario.pendiente_curva_presion_satu_vapor*df_diario.rn\n",
    "    )+(\n",
    "        df_diario.constante_psicometrica*(\n",
    "            900/(df_diario.temperatura_promedio_diaria + 273)\n",
    "        )*df_diario.velocidad_viento_altura_standar * df_diario.deficit_presion_vapor\n",
    "    )\n",
    ") / (\n",
    "    df_diario.pendiente_curva_presion_satu_vapor + (\n",
    "        df_diario.constante_psicometrica + (\n",
    "            1+(0.34 + df_diario.velocidad_viento_altura_standar)\n",
    "        )\n",
    "    )\n",
    ")\n",
    "    "
   ]
  },
  {
   "cell_type": "code",
   "execution_count": null,
   "metadata": {},
   "outputs": [],
   "source": [
    "df_diario['deficit']= df_diario.lluvia_diaria-df_diario['FAO-Penman-Montieth']"
   ]
  },
  {
   "cell_type": "code",
   "execution_count": null,
   "metadata": {},
   "outputs": [],
   "source": []
  }
 ],
 "metadata": {
  "kernelspec": {
   "display_name": "Python 3.9.12 ('base')",
   "language": "python",
   "name": "python3"
  },
  "language_info": {
   "codemirror_mode": {
    "name": "ipython",
    "version": 3
   },
   "file_extension": ".py",
   "mimetype": "text/x-python",
   "name": "python",
   "nbconvert_exporter": "python",
   "pygments_lexer": "ipython3",
   "version": "3.9.12"
  },
  "toc": {
   "base_numbering": 1,
   "nav_menu": {},
   "number_sections": true,
   "sideBar": true,
   "skip_h1_title": false,
   "title_cell": "Table of Contents",
   "title_sidebar": "Contents",
   "toc_cell": false,
   "toc_position": {},
   "toc_section_display": true,
   "toc_window_display": false
  },
  "varInspector": {
   "cols": {
    "lenName": 16,
    "lenType": 16,
    "lenVar": 40
   },
   "kernels_config": {
    "python": {
     "delete_cmd_postfix": "",
     "delete_cmd_prefix": "del ",
     "library": "var_list.py",
     "varRefreshCmd": "print(var_dic_list())"
    },
    "r": {
     "delete_cmd_postfix": ") ",
     "delete_cmd_prefix": "rm(",
     "library": "var_list.r",
     "varRefreshCmd": "cat(var_dic_list()) "
    }
   },
   "types_to_exclude": [
    "module",
    "function",
    "builtin_function_or_method",
    "instance",
    "_Feature"
   ],
   "window_display": false
  },
  "vscode": {
   "interpreter": {
    "hash": "b0a2faa82db20f947920d9ade35461cfd3d45cac6510ce168f7e2b5afcc8f08a"
   }
  }
 },
 "nbformat": 4,
 "nbformat_minor": 2
}
