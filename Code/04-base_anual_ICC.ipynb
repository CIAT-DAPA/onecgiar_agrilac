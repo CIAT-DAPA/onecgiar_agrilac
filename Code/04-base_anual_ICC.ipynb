{
 "cells": [
  {
   "cell_type": "markdown",
   "metadata": {},
   "source": [
    "## Agregaciones Anuales\n",
    "\n",
    "#### Este notebook tiene como objetivo generar las tablas de las variables climaticas anuales"
   ]
  },
  {
   "cell_type": "code",
   "execution_count": null,
   "metadata": {},
   "outputs": [],
   "source": [
    "###Ubicación de espacio de trabajo\n",
    "pwd"
   ]
  },
  {
   "cell_type": "code",
   "execution_count": null,
   "metadata": {},
   "outputs": [],
   "source": [
    "## Libreías generales\n",
    "import numpy as np\n",
    "import pandas as pd\n",
    "import datetime\n",
    "from dateutil.relativedelta import relativedelta"
   ]
  },
  {
   "cell_type": "code",
   "execution_count": null,
   "metadata": {},
   "outputs": [],
   "source": [
    "#comando para visualizar todas las columnas del df\n",
    "pd.pandas.set_option('display.max_columns', None)"
   ]
  },
  {
   "cell_type": "code",
   "execution_count": null,
   "metadata": {},
   "outputs": [],
   "source": [
    "### Se carga el archivo del calculo de las variables semanales \n",
    "\n",
    "df_semanal = pd.read_parquet('semanal_complete.parquet')\n",
    "df_semanal.head()"
   ]
  },
  {
   "cell_type": "code",
   "execution_count": null,
   "metadata": {},
   "outputs": [],
   "source": [
    "df_anual=df_semanal.groupby(['estrato','año']).agg(\n",
    "    Radic_solar_prome_anual=('rad_diar_prom_semanal','sum'),\n",
    "    brillo_solar_acum_anual=('n_brillo_solar_acum','sum'),\n",
    "    precp_max_anual= ('prec_acumulada','max'),\n",
    "    ampl_term_acmu_anual= ('ampl_term_prom_semanal','sum')\n",
    "    ).reset_index().round(2)\n",
    "df_anual"
   ]
  },
  {
   "cell_type": "code",
   "execution_count": null,
   "metadata": {},
   "outputs": [],
   "source": [
    "df_anual[(df_anual.estrato=='Alto')& (df_anual.año==2022.0)]"
   ]
  },
  {
   "cell_type": "code",
   "execution_count": null,
   "metadata": {},
   "outputs": [],
   "source": [
    "\"\"\"Se guarda la  base de datos con las variables calculadas anualmente, en este caso se guarda en formato parquet dado\n",
    "que este formato es mas liviano que descargar la bae en un excel, pero tambien es posible guardar en formato excel \"\"\"\n",
    "\n",
    "df_anual.to_parquet('anual_complete.parquet')\n",
    "\n",
    "#df_anual.to_excel('anual_complete.excel')"
   ]
  }
 ],
 "metadata": {
  "kernelspec": {
   "display_name": "Python 3.9.12 ('base')",
   "language": "python",
   "name": "python3"
  },
  "language_info": {
   "name": "python",
   "version": "3.9.12"
  },
  "orig_nbformat": 4,
  "vscode": {
   "interpreter": {
    "hash": "b0a2faa82db20f947920d9ade35461cfd3d45cac6510ce168f7e2b5afcc8f08a"
   }
  }
 },
 "nbformat": 4,
 "nbformat_minor": 2
}
