{
 "cells": [
  {
   "cell_type": "markdown",
   "id": "7e15dfc2",
   "metadata": {},
   "source": [
    "# Limpieza preliminar de los datos horarios de las estaciones ICC"
   ]
  },
  {
   "cell_type": "code",
   "execution_count": 1,
   "id": "a561ca00",
   "metadata": {},
   "outputs": [],
   "source": [
    "import pandas as pd\n",
    "%matplotlib inline\n",
    "import numpy as np\n",
    "import pandas as pd\n",
    "import seaborn as sns\n",
    "import matplotlib.pyplot as plt\n",
    "import matplotlib.ticker as ticker\n",
    "import glob\n",
    "from pathlib import PureWindowsPath\n",
    "from datetime import datetime\n",
    "import re\n",
    "import warnings\n",
    "import os\n",
    "\n",
    "warnings.filterwarnings(\"ignore\")\n",
    "# set the max columns to none\n",
    "pd.set_option('display.max_columns', None)"
   ]
  },
  {
   "cell_type": "markdown",
   "id": "ff1f958e",
   "metadata": {},
   "source": [
    "# read files"
   ]
  },
  {
   "cell_type": "code",
   "execution_count": 2,
   "id": "ae1dd4ac",
   "metadata": {},
   "outputs": [],
   "source": [
    "# get data file names\n",
    "path =r'/home/diana/Escritorio/CIAT/ICC/datos_exploratorios/'\n",
    "filenames = glob.glob(path + \"/*.xlsx\")\n"
   ]
  },
  {
   "cell_type": "code",
   "execution_count": 3,
   "id": "69af0407",
   "metadata": {},
   "outputs": [
    {
     "data": {
      "text/plain": [
       "'/home/diana/Escritorio/CIAT/onecgiar_agrilac_singit'"
      ]
     },
     "execution_count": 3,
     "metadata": {},
     "output_type": "execute_result"
    }
   ],
   "source": [
    "pwd"
   ]
  },
  {
   "cell_type": "code",
   "execution_count": 4,
   "id": "e60688ba",
   "metadata": {},
   "outputs": [],
   "source": [
    "os.chdir('../')"
   ]
  },
  {
   "cell_type": "code",
   "execution_count": 5,
   "id": "742ae98f",
   "metadata": {},
   "outputs": [
    {
     "name": "stdout",
     "output_type": "stream",
     "text": [
      "providencia\n",
      "guardando\n",
      "['providencia']\n",
      "la_maquina\n",
      "guardando\n",
      "['providencia', 'la_maquina']\n",
      "tehuantepec\n",
      "guardando\n",
      "['providencia', 'la_maquina', 'tehuantepec']\n",
      "cengicana\n",
      "guardando\n",
      "['providencia', 'la_maquina', 'tehuantepec', 'cengicana']\n",
      "peten_oficina\n",
      "guardando\n",
      "['providencia', 'la_maquina', 'tehuantepec', 'cengicana', 'peten_oficina']\n",
      "tulula\n",
      "guardando\n",
      "['providencia', 'la_maquina', 'tehuantepec', 'cengicana', 'peten_oficina', 'tulula']\n",
      "el_carmen\n",
      "guardando\n",
      "['providencia', 'la_maquina', 'tehuantepec', 'cengicana', 'peten_oficina', 'tulula', 'el_carmen']\n",
      "san_antonio_del_valle\n",
      "guardando\n",
      "['providencia', 'la_maquina', 'tehuantepec', 'cengicana', 'peten_oficina', 'tulula', 'el_carmen', 'san_antonio_del_valle']\n",
      "trinidad_magdalena\n",
      "guardando\n",
      "['providencia', 'la_maquina', 'tehuantepec', 'cengicana', 'peten_oficina', 'tulula', 'el_carmen', 'san_antonio_del_valle', 'trinidad_magdalena']\n",
      "yepocapa\n",
      "guardando\n",
      "['providencia', 'la_maquina', 'tehuantepec', 'cengicana', 'peten_oficina', 'tulula', 'el_carmen', 'san_antonio_del_valle', 'trinidad_magdalena', 'yepocapa']\n",
      "chaparrastique\n",
      "guardando\n",
      "['providencia', 'la_maquina', 'tehuantepec', 'cengicana', 'peten_oficina', 'tulula', 'el_carmen', 'san_antonio_del_valle', 'trinidad_magdalena', 'yepocapa', 'chaparrastique']\n",
      "monte_alegre\n",
      "guardando\n",
      "['providencia', 'la_maquina', 'tehuantepec', 'cengicana', 'peten_oficina', 'tulula', 'el_carmen', 'san_antonio_del_valle', 'trinidad_magdalena', 'yepocapa', 'chaparrastique', 'monte_alegre']\n",
      "bougambilia\n",
      "guardando\n",
      "['providencia', 'la_maquina', 'tehuantepec', 'cengicana', 'peten_oficina', 'tulula', 'el_carmen', 'san_antonio_del_valle', 'trinidad_magdalena', 'yepocapa', 'chaparrastique', 'monte_alegre', 'bougambilia']\n",
      "pueblo_real\n",
      "guardando\n",
      "['providencia', 'la_maquina', 'tehuantepec', 'cengicana', 'peten_oficina', 'tulula', 'el_carmen', 'san_antonio_del_valle', 'trinidad_magdalena', 'yepocapa', 'chaparrastique', 'monte_alegre', 'bougambilia', 'pueblo_real']\n",
      "bonanza\n",
      "guardando\n",
      "['providencia', 'la_maquina', 'tehuantepec', 'cengicana', 'peten_oficina', 'tulula', 'el_carmen', 'san_antonio_del_valle', 'trinidad_magdalena', 'yepocapa', 'chaparrastique', 'monte_alegre', 'bougambilia', 'pueblo_real', 'bonanza']\n",
      "trinidad\n",
      "guardando\n",
      "['providencia', 'la_maquina', 'tehuantepec', 'cengicana', 'peten_oficina', 'tulula', 'el_carmen', 'san_antonio_del_valle', 'trinidad_magdalena', 'yepocapa', 'chaparrastique', 'monte_alegre', 'bougambilia', 'pueblo_real', 'bonanza', 'trinidad']\n",
      "naranjales\n",
      "guardando\n",
      "['providencia', 'la_maquina', 'tehuantepec', 'cengicana', 'peten_oficina', 'tulula', 'el_carmen', 'san_antonio_del_valle', 'trinidad_magdalena', 'yepocapa', 'chaparrastique', 'monte_alegre', 'bougambilia', 'pueblo_real', 'bonanza', 'trinidad', 'naranjales']\n",
      "cocales\n",
      "guardando\n",
      "['providencia', 'la_maquina', 'tehuantepec', 'cengicana', 'peten_oficina', 'tulula', 'el_carmen', 'san_antonio_del_valle', 'trinidad_magdalena', 'yepocapa', 'chaparrastique', 'monte_alegre', 'bougambilia', 'pueblo_real', 'bonanza', 'trinidad', 'naranjales', 'cocales']\n",
      "central_izalco\n",
      "guardando\n",
      "['providencia', 'la_maquina', 'tehuantepec', 'cengicana', 'peten_oficina', 'tulula', 'el_carmen', 'san_antonio_del_valle', 'trinidad_magdalena', 'yepocapa', 'chaparrastique', 'monte_alegre', 'bougambilia', 'pueblo_real', 'bonanza', 'trinidad', 'naranjales', 'cocales', 'central_izalco']\n",
      "irlanda\n",
      "guardando\n",
      "['providencia', 'la_maquina', 'tehuantepec', 'cengicana', 'peten_oficina', 'tulula', 'el_carmen', 'san_antonio_del_valle', 'trinidad_magdalena', 'yepocapa', 'chaparrastique', 'monte_alegre', 'bougambilia', 'pueblo_real', 'bonanza', 'trinidad', 'naranjales', 'cocales', 'central_izalco', 'irlanda']\n",
      "la_giralda\n",
      "guardando\n",
      "['providencia', 'la_maquina', 'tehuantepec', 'cengicana', 'peten_oficina', 'tulula', 'el_carmen', 'san_antonio_del_valle', 'trinidad_magdalena', 'yepocapa', 'chaparrastique', 'monte_alegre', 'bougambilia', 'pueblo_real', 'bonanza', 'trinidad', 'naranjales', 'cocales', 'central_izalco', 'irlanda', 'la_giralda']\n",
      "puyumate\n",
      "guardando\n",
      "['providencia', 'la_maquina', 'tehuantepec', 'cengicana', 'peten_oficina', 'tulula', 'el_carmen', 'san_antonio_del_valle', 'trinidad_magdalena', 'yepocapa', 'chaparrastique', 'monte_alegre', 'bougambilia', 'pueblo_real', 'bonanza', 'trinidad', 'naranjales', 'cocales', 'central_izalco', 'irlanda', 'la_giralda', 'puyumate']\n",
      "el_platanar\n",
      "guardando\n",
      "['providencia', 'la_maquina', 'tehuantepec', 'cengicana', 'peten_oficina', 'tulula', 'el_carmen', 'san_antonio_del_valle', 'trinidad_magdalena', 'yepocapa', 'chaparrastique', 'monte_alegre', 'bougambilia', 'pueblo_real', 'bonanza', 'trinidad', 'naranjales', 'cocales', 'central_izalco', 'irlanda', 'la_giralda', 'puyumate', 'el_platanar']\n",
      "alamo\n",
      "guardando\n",
      "['providencia', 'la_maquina', 'tehuantepec', 'cengicana', 'peten_oficina', 'tulula', 'el_carmen', 'san_antonio_del_valle', 'trinidad_magdalena', 'yepocapa', 'chaparrastique', 'monte_alegre', 'bougambilia', 'pueblo_real', 'bonanza', 'trinidad', 'naranjales', 'cocales', 'central_izalco', 'irlanda', 'la_giralda', 'puyumate', 'el_platanar', 'alamo']\n",
      "agua_santa\n",
      "guardando\n",
      "['providencia', 'la_maquina', 'tehuantepec', 'cengicana', 'peten_oficina', 'tulula', 'el_carmen', 'san_antonio_del_valle', 'trinidad_magdalena', 'yepocapa', 'chaparrastique', 'monte_alegre', 'bougambilia', 'pueblo_real', 'bonanza', 'trinidad', 'naranjales', 'cocales', 'central_izalco', 'irlanda', 'la_giralda', 'puyumate', 'el_platanar', 'alamo', 'agua_santa']\n",
      "costa_brava\n",
      "guardando\n",
      "['providencia', 'la_maquina', 'tehuantepec', 'cengicana', 'peten_oficina', 'tulula', 'el_carmen', 'san_antonio_del_valle', 'trinidad_magdalena', 'yepocapa', 'chaparrastique', 'monte_alegre', 'bougambilia', 'pueblo_real', 'bonanza', 'trinidad', 'naranjales', 'cocales', 'central_izalco', 'irlanda', 'la_giralda', 'puyumate', 'el_platanar', 'alamo', 'agua_santa', 'costa_brava']\n",
      "amazonas\n",
      "guardando\n",
      "['providencia', 'la_maquina', 'tehuantepec', 'cengicana', 'peten_oficina', 'tulula', 'el_carmen', 'san_antonio_del_valle', 'trinidad_magdalena', 'yepocapa', 'chaparrastique', 'monte_alegre', 'bougambilia', 'pueblo_real', 'bonanza', 'trinidad', 'naranjales', 'cocales', 'central_izalco', 'irlanda', 'la_giralda', 'puyumate', 'el_platanar', 'alamo', 'agua_santa', 'costa_brava', 'amazonas']\n",
      "concepcion\n",
      "guardando\n",
      "['providencia', 'la_maquina', 'tehuantepec', 'cengicana', 'peten_oficina', 'tulula', 'el_carmen', 'san_antonio_del_valle', 'trinidad_magdalena', 'yepocapa', 'chaparrastique', 'monte_alegre', 'bougambilia', 'pueblo_real', 'bonanza', 'trinidad', 'naranjales', 'cocales', 'central_izalco', 'irlanda', 'la_giralda', 'puyumate', 'el_platanar', 'alamo', 'agua_santa', 'costa_brava', 'amazonas', 'concepcion']\n",
      "balsamo\n",
      "guardando\n",
      "['providencia', 'la_maquina', 'tehuantepec', 'cengicana', 'peten_oficina', 'tulula', 'el_carmen', 'san_antonio_del_valle', 'trinidad_magdalena', 'yepocapa', 'chaparrastique', 'monte_alegre', 'bougambilia', 'pueblo_real', 'bonanza', 'trinidad', 'naranjales', 'cocales', 'central_izalco', 'irlanda', 'la_giralda', 'puyumate', 'el_platanar', 'alamo', 'agua_santa', 'costa_brava', 'amazonas', 'concepcion', 'balsamo']\n",
      "san_nicolas\n",
      "guardando\n",
      "['providencia', 'la_maquina', 'tehuantepec', 'cengicana', 'peten_oficina', 'tulula', 'el_carmen', 'san_antonio_del_valle', 'trinidad_magdalena', 'yepocapa', 'chaparrastique', 'monte_alegre', 'bougambilia', 'pueblo_real', 'bonanza', 'trinidad', 'naranjales', 'cocales', 'central_izalco', 'irlanda', 'la_giralda', 'puyumate', 'el_platanar', 'alamo', 'agua_santa', 'costa_brava', 'amazonas', 'concepcion', 'balsamo', 'san_nicolas']\n",
      "la_candelaria\n",
      "guardando\n",
      "['providencia', 'la_maquina', 'tehuantepec', 'cengicana', 'peten_oficina', 'tulula', 'el_carmen', 'san_antonio_del_valle', 'trinidad_magdalena', 'yepocapa', 'chaparrastique', 'monte_alegre', 'bougambilia', 'pueblo_real', 'bonanza', 'trinidad', 'naranjales', 'cocales', 'central_izalco', 'irlanda', 'la_giralda', 'puyumate', 'el_platanar', 'alamo', 'agua_santa', 'costa_brava', 'amazonas', 'concepcion', 'balsamo', 'san_nicolas', 'la_candelaria']\n",
      "san_clemente\n",
      "guardando\n",
      "['providencia', 'la_maquina', 'tehuantepec', 'cengicana', 'peten_oficina', 'tulula', 'el_carmen', 'san_antonio_del_valle', 'trinidad_magdalena', 'yepocapa', 'chaparrastique', 'monte_alegre', 'bougambilia', 'pueblo_real', 'bonanza', 'trinidad', 'naranjales', 'cocales', 'central_izalco', 'irlanda', 'la_giralda', 'puyumate', 'el_platanar', 'alamo', 'agua_santa', 'costa_brava', 'amazonas', 'concepcion', 'balsamo', 'san_nicolas', 'la_candelaria', 'san_clemente']\n",
      "copal\n"
     ]
    },
    {
     "name": "stdout",
     "output_type": "stream",
     "text": [
      "guardando\n",
      "['providencia', 'la_maquina', 'tehuantepec', 'cengicana', 'peten_oficina', 'tulula', 'el_carmen', 'san_antonio_del_valle', 'trinidad_magdalena', 'yepocapa', 'chaparrastique', 'monte_alegre', 'bougambilia', 'pueblo_real', 'bonanza', 'trinidad', 'naranjales', 'cocales', 'central_izalco', 'irlanda', 'la_giralda', 'puyumate', 'el_platanar', 'alamo', 'agua_santa', 'costa_brava', 'amazonas', 'concepcion', 'balsamo', 'san_nicolas', 'la_candelaria', 'san_clemente', 'copal']\n",
      "xoluta\n",
      "guardando\n",
      "['providencia', 'la_maquina', 'tehuantepec', 'cengicana', 'peten_oficina', 'tulula', 'el_carmen', 'san_antonio_del_valle', 'trinidad_magdalena', 'yepocapa', 'chaparrastique', 'monte_alegre', 'bougambilia', 'pueblo_real', 'bonanza', 'trinidad', 'naranjales', 'cocales', 'central_izalco', 'irlanda', 'la_giralda', 'puyumate', 'el_platanar', 'alamo', 'agua_santa', 'costa_brava', 'amazonas', 'concepcion', 'balsamo', 'san_nicolas', 'la_candelaria', 'san_clemente', 'copal', 'xoluta']\n",
      "santa_teresa\n",
      "guardando\n",
      "['providencia', 'la_maquina', 'tehuantepec', 'cengicana', 'peten_oficina', 'tulula', 'el_carmen', 'san_antonio_del_valle', 'trinidad_magdalena', 'yepocapa', 'chaparrastique', 'monte_alegre', 'bougambilia', 'pueblo_real', 'bonanza', 'trinidad', 'naranjales', 'cocales', 'central_izalco', 'irlanda', 'la_giralda', 'puyumate', 'el_platanar', 'alamo', 'agua_santa', 'costa_brava', 'amazonas', 'concepcion', 'balsamo', 'san_nicolas', 'la_candelaria', 'san_clemente', 'copal', 'xoluta', 'santa_teresa']\n",
      "lorena\n",
      "guardando\n",
      "['providencia', 'la_maquina', 'tehuantepec', 'cengicana', 'peten_oficina', 'tulula', 'el_carmen', 'san_antonio_del_valle', 'trinidad_magdalena', 'yepocapa', 'chaparrastique', 'monte_alegre', 'bougambilia', 'pueblo_real', 'bonanza', 'trinidad', 'naranjales', 'cocales', 'central_izalco', 'irlanda', 'la_giralda', 'puyumate', 'el_platanar', 'alamo', 'agua_santa', 'costa_brava', 'amazonas', 'concepcion', 'balsamo', 'san_nicolas', 'la_candelaria', 'san_clemente', 'copal', 'xoluta', 'santa_teresa', 'lorena']\n",
      "san_rafael\n",
      "guardando\n",
      "['providencia', 'la_maquina', 'tehuantepec', 'cengicana', 'peten_oficina', 'tulula', 'el_carmen', 'san_antonio_del_valle', 'trinidad_magdalena', 'yepocapa', 'chaparrastique', 'monte_alegre', 'bougambilia', 'pueblo_real', 'bonanza', 'trinidad', 'naranjales', 'cocales', 'central_izalco', 'irlanda', 'la_giralda', 'puyumate', 'el_platanar', 'alamo', 'agua_santa', 'costa_brava', 'amazonas', 'concepcion', 'balsamo', 'san_nicolas', 'la_candelaria', 'san_clemente', 'copal', 'xoluta', 'santa_teresa', 'lorena', 'san_rafael']\n",
      "chiquirines\n",
      "guardando\n",
      "['providencia', 'la_maquina', 'tehuantepec', 'cengicana', 'peten_oficina', 'tulula', 'el_carmen', 'san_antonio_del_valle', 'trinidad_magdalena', 'yepocapa', 'chaparrastique', 'monte_alegre', 'bougambilia', 'pueblo_real', 'bonanza', 'trinidad', 'naranjales', 'cocales', 'central_izalco', 'irlanda', 'la_giralda', 'puyumate', 'el_platanar', 'alamo', 'agua_santa', 'costa_brava', 'amazonas', 'concepcion', 'balsamo', 'san_nicolas', 'la_candelaria', 'san_clemente', 'copal', 'xoluta', 'santa_teresa', 'lorena', 'san_rafael', 'chiquirines']\n"
     ]
    }
   ],
   "source": [
    "path_csv='ICC/historicos_horarios_csv/'\n",
    "path_excel='ICC/historicos_horarios_excel/'\n",
    "dataframes=[]\n",
    "for csv in filenames:\n",
    "    name_df = re.split(r'[^a-zA-Z0-9\\s]', csv)[-2]\n",
    "    name_df = re.sub(r\"\\s+\", '_', name_df).lower()\n",
    "    dataframes.append(name_df)\n",
    "    print(name_df)\n",
    "    vars()[name_df] = pd.read_excel(csv, index_col=None)\n",
    "    if vars()[name_df].shape[1]==9:\n",
    "        vars()[name_df].columns = [\"estacion\", \"fecha\", \"temperatura\", \n",
    "        \"radiacion\", \"humedad_relativa\", \"precipitacion\",\n",
    "         \"velocidad_viento\", \"mojadura\", \"direccion_viento\"]\n",
    "        vars()[name_df][\"presion_atm\"]=np.nan\n",
    "    else:\n",
    "        vars()[name_df].columns = [\"estacion\", \"fecha\", \"temperatura\", \n",
    "        \"radiacion\", \"humedad_relativa\", \"precipitacion\",\n",
    "         \"velocidad_viento\", \"mojadura\", \"direccion_viento\",\n",
    "         \"presion_atm\"]\n",
    "    #quitando caracteres especiales\n",
    "    # para qitar caracteres especiales y/o espacios\n",
    "    vars()[name_df] = vars()[name_df].replace(r'\\W+', '', regex=True)\n",
    "    vars()[name_df] = vars()[name_df].replace(r'\\s+', ' ', regex=True)\n",
    "    vars()[name_df] = vars()[name_df].replace(\"\", np.nan, regex=True)\n",
    "    vars()[name_df] = vars()[name_df].replace(\" \", np.nan, regex=True)\n",
    "    #formato\n",
    "    vars()[name_df][[\n",
    "        'temperatura',\n",
    "        'radiacion',\n",
    "        'precipitacion',\n",
    "        'mojadura'\n",
    "    ]] = vars()[name_df][[\n",
    "        'temperatura',\n",
    "        'radiacion',\n",
    "        'precipitacion',\n",
    "        'mojadura'\n",
    "    ]].apply(pd.to_numeric)\n",
    "    print('guardando')\n",
    "    vars()[name_df].to_excel(path_excel + name_df + '.' +'xlsx')\n",
    "    vars()[name_df].to_csv(path_csv + name_df + '.' +'csv')\n",
    "    print(dataframes)\n",
    "    "
   ]
  }
 ],
 "metadata": {
  "kernelspec": {
   "display_name": "Python 3 (ipykernel)",
   "language": "python",
   "name": "python3"
  },
  "language_info": {
   "codemirror_mode": {
    "name": "ipython",
    "version": 3
   },
   "file_extension": ".py",
   "mimetype": "text/x-python",
   "name": "python",
   "nbconvert_exporter": "python",
   "pygments_lexer": "ipython3",
   "version": "3.8.8"
  },
  "vscode": {
   "interpreter": {
    "hash": "8296702cda7b4393630ffb8da121dd0af5e1e08d717bf47d5ba8164c5fff3c6b"
   }
  }
 },
 "nbformat": 4,
 "nbformat_minor": 5
}
